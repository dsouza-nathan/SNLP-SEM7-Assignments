{
 "cells": [
  {
   "cell_type": "markdown",
   "id": "ed5fc978",
   "metadata": {},
   "source": [
    "<span style=\"font-size:25px;\">J040 Nathan Dsouza</span>"
   ]
  },
  {
   "cell_type": "markdown",
   "id": "157bcc76",
   "metadata": {
    "papermill": {
     "duration": 0.012386,
     "end_time": "2025-09-07T07:00:40.317900",
     "exception": false,
     "start_time": "2025-09-07T07:00:40.305514",
     "status": "completed"
    },
    "tags": []
   },
   "source": [
    "# SQuAD Question Answering Task with DistilBERT\n",
    "This notebook demonstrates an end-to-end workflow for training a question answering model using the Stanford Question Answering Dataset (SQuAD) and the DistilBERT transformer model. The steps include:\n",
    "- Loading and postprocessing the SQuAD data\n",
    "- Preprocessing for token-level answer mapping\n",
    "- Model training and evaluation with a custom token-level IoU metric\n",
    "- Building an inference pipeline to test the trained model"
   ]
  },
  {
   "cell_type": "code",
   "execution_count": 1,
   "id": "9d0c65fa",
   "metadata": {
    "execution": {
     "iopub.execute_input": "2025-09-07T07:00:40.341132Z",
     "iopub.status.busy": "2025-09-07T07:00:40.340396Z",
     "iopub.status.idle": "2025-09-07T07:00:54.451992Z",
     "shell.execute_reply": "2025-09-07T07:00:54.451414Z"
    },
    "papermill": {
     "duration": 14.124309,
     "end_time": "2025-09-07T07:00:54.453231",
     "exception": false,
     "start_time": "2025-09-07T07:00:40.328922",
     "status": "completed"
    },
    "tags": []
   },
   "outputs": [],
   "source": [
    "import torch\n",
    "import transformers\n",
    "import pandas as pd\n",
    "import numpy as np\n",
    "import json\n",
    "\n",
    "from sklearn import model_selection, metrics\n",
    "from datasets import Dataset\n",
    "from tqdm.notebook import tqdm\n",
    "\n",
    "import os\n",
    "os.environ[\"TOKENIZERS_PARALLELISM\"] = \"false\""
   ]
  },
  {
   "cell_type": "markdown",
   "id": "cc53ee0d",
   "metadata": {
    "papermill": {
     "duration": 0.01048,
     "end_time": "2025-09-07T07:00:54.475831",
     "exception": false,
     "start_time": "2025-09-07T07:00:54.465351",
     "status": "completed"
    },
    "tags": []
   },
   "source": [
    "## 1. Import Required Libraries\n",
    "This cell imports all necessary libraries for data processing, model training, and evaluation."
   ]
  },
  {
   "cell_type": "code",
   "execution_count": 2,
   "id": "a0989554",
   "metadata": {
    "execution": {
     "iopub.execute_input": "2025-09-07T07:00:54.498651Z",
     "iopub.status.busy": "2025-09-07T07:00:54.497790Z",
     "iopub.status.idle": "2025-09-07T07:00:54.501804Z",
     "shell.execute_reply": "2025-09-07T07:00:54.501107Z"
    },
    "papermill": {
     "duration": 0.016402,
     "end_time": "2025-09-07T07:00:54.502878",
     "exception": false,
     "start_time": "2025-09-07T07:00:54.486476",
     "status": "completed"
    },
    "tags": []
   },
   "outputs": [],
   "source": [
    "config = {\n",
    "    \"max_length\": 512,\n",
    "    \"model_path\": \"distilbert-base-uncased\",\n",
    "    \"output_dir\": \"./my-qa-model\",\n",
    "    \"train_batch_size\": 8,\n",
    "    \"valid_batch_size\": 8,\n",
    "    \"learning_rate\": 3e-5,\n",
    "    \"epochs\": 2,\n",
    "    \"debug\": False,\n",
    "}"
   ]
  },
  {
   "cell_type": "markdown",
   "id": "af563191",
   "metadata": {
    "papermill": {
     "duration": 0.010733,
     "end_time": "2025-09-07T07:00:54.524175",
     "exception": false,
     "start_time": "2025-09-07T07:00:54.513442",
     "status": "completed"
    },
    "tags": []
   },
   "source": [
    "## 2. Configuration\n",
    "This cell sets up the configuration parameters for the model, including maximum sequence length, model path, batch sizes, learning rate, and number of epochs."
   ]
  },
  {
   "cell_type": "code",
   "execution_count": 3,
   "id": "0afe01d0",
   "metadata": {
    "execution": {
     "iopub.execute_input": "2025-09-07T07:00:54.546715Z",
     "iopub.status.busy": "2025-09-07T07:00:54.546090Z",
     "iopub.status.idle": "2025-09-07T07:00:54.552500Z",
     "shell.execute_reply": "2025-09-07T07:00:54.551824Z"
    },
    "papermill": {
     "duration": 0.018775,
     "end_time": "2025-09-07T07:00:54.553557",
     "exception": false,
     "start_time": "2025-09-07T07:00:54.534782",
     "status": "completed"
    },
    "tags": []
   },
   "outputs": [],
   "source": [
    "def preprocess_function(sample):\n",
    "    inputs = tokenizer(\n",
    "        sample[\"question\"],\n",
    "        sample[\"context\"],\n",
    "        max_length=config[\"max_length\"],\n",
    "        truncation=\"only_second\",\n",
    "        return_offsets_mapping=True,\n",
    "        padding=\"max_length\",\n",
    "    )\n",
    "\n",
    "    offset_mapping = inputs.pop(\"offset_mapping\")\n",
    "    sequence_ids = inputs.sequence_ids()\n",
    "\n",
    "    # Find the start and end of the context in the tokenized input\n",
    "    context_start = None\n",
    "    context_end = None\n",
    "    for i, seq_id in enumerate(sequence_ids):\n",
    "        if seq_id == 1 and context_start is None:\n",
    "            context_start = i\n",
    "        if seq_id == 1:\n",
    "            context_end = i + 1\n",
    "\n",
    "    context_offsets = offset_mapping[context_start:context_end]\n",
    "\n",
    "    answer_start_char = sample[\"answer_start\"]\n",
    "    answer_end_char = sample[\"answer_end\"]\n",
    "\n",
    "    start_pos = end_pos = None\n",
    "    for idx, (start, end) in enumerate(context_offsets):\n",
    "        if start <= answer_start_char < end:\n",
    "            start_pos = idx + context_start\n",
    "        if start < answer_end_char <= end:\n",
    "            end_pos = idx + context_start\n",
    "    # If answer_end falls at the end of a token, use the last token that covers it\n",
    "    if end_pos is None:\n",
    "        for idx, (start, end) in reversed(list(enumerate(context_offsets))):\n",
    "            if start < answer_end_char <= end:\n",
    "                end_pos = idx + context_start\n",
    "                break\n",
    "        if end_pos is None:\n",
    "            end_pos = start_pos\n",
    "\n",
    "    # If answer not found, set to first context token\n",
    "    if start_pos is None or end_pos is None:\n",
    "        start_pos = context_start\n",
    "        end_pos = context_start\n",
    "\n",
    "    inputs[\"start_positions\"] = start_pos\n",
    "    inputs[\"end_positions\"] = end_pos\n",
    "\n",
    "    return inputs"
   ]
  },
  {
   "cell_type": "markdown",
   "id": "4bca3c57",
   "metadata": {
    "papermill": {
     "duration": 0.0105,
     "end_time": "2025-09-07T07:00:54.574671",
     "exception": false,
     "start_time": "2025-09-07T07:00:54.564171",
     "status": "completed"
    },
    "tags": []
   },
   "source": [
    "## 3. Preprocessing Function\n",
    "This cell defines the preprocessing function that maps character-level answer positions to token-level positions using the tokenizer's offset mapping. This is essential for training the model to predict the correct answer span."
   ]
  },
  {
   "cell_type": "code",
   "execution_count": 4,
   "id": "945d82b9",
   "metadata": {
    "execution": {
     "iopub.execute_input": "2025-09-07T07:00:54.598787Z",
     "iopub.status.busy": "2025-09-07T07:00:54.598570Z",
     "iopub.status.idle": "2025-09-07T07:00:57.755125Z",
     "shell.execute_reply": "2025-09-07T07:00:57.754332Z"
    },
    "papermill": {
     "duration": 3.169671,
     "end_time": "2025-09-07T07:00:57.756420",
     "exception": false,
     "start_time": "2025-09-07T07:00:54.586749",
     "status": "completed"
    },
    "tags": []
   },
   "outputs": [
    {
     "name": "stdout",
     "output_type": "stream",
     "text": [
      "(87599, 5)\n"
     ]
    },
    {
     "data": {
      "application/vnd.jupyter.widget-view+json": {
       "model_id": "a224651154174203ad62a98bef5beece",
       "version_major": 2,
       "version_minor": 0
      },
      "text/plain": [
       "tokenizer_config.json:   0%|          | 0.00/48.0 [00:00<?, ?B/s]"
      ]
     },
     "metadata": {},
     "output_type": "display_data"
    },
    {
     "data": {
      "application/vnd.jupyter.widget-view+json": {
       "model_id": "9f051484ba384849a844207206b18d74",
       "version_major": 2,
       "version_minor": 0
      },
      "text/plain": [
       "config.json:   0%|          | 0.00/483 [00:00<?, ?B/s]"
      ]
     },
     "metadata": {},
     "output_type": "display_data"
    },
    {
     "data": {
      "application/vnd.jupyter.widget-view+json": {
       "model_id": "27d9dd0c97194cbab3224ff81744328e",
       "version_major": 2,
       "version_minor": 0
      },
      "text/plain": [
       "vocab.txt:   0%|          | 0.00/232k [00:00<?, ?B/s]"
      ]
     },
     "metadata": {},
     "output_type": "display_data"
    },
    {
     "data": {
      "application/vnd.jupyter.widget-view+json": {
       "model_id": "5b2a5d3795e34c208d6fe622fa37e6a2",
       "version_major": 2,
       "version_minor": 0
      },
      "text/plain": [
       "tokenizer.json:   0%|          | 0.00/466k [00:00<?, ?B/s]"
      ]
     },
     "metadata": {},
     "output_type": "display_data"
    }
   ],
   "source": [
    "data = json.load(open(\"/kaggle/input/stanford-question-answering-dataset/train-v1.1.json\"))\n",
    "\n",
    "\n",
    "flattened_data = []\n",
    "\n",
    "for sample in data[\"data\"]:\n",
    "    for para in sample[\"paragraphs\"]:\n",
    "        for qas in para[\"qas\"]:\n",
    "            flattened_data.append({\n",
    "                \"context\": para[\"context\"],\n",
    "                \"question\": qas[\"question\"],\n",
    "                \"answer\": qas[\"answers\"][0][\"text\"],\n",
    "                \"answer_start\": qas[\"answers\"][0][\"answer_start\"],  \n",
    "            })\n",
    "            \n",
    "            \n",
    "df = pd.DataFrame(flattened_data)\n",
    "df[\"answer_end\"] = df[\"answer_start\"] + df[\"answer\"].apply(len)\n",
    "print(df.shape)\n",
    "df.head(10)\n",
    "\n",
    "\n",
    "tokenizer = transformers.AutoTokenizer.from_pretrained(config[\"model_path\"])"
   ]
  },
  {
   "cell_type": "markdown",
   "id": "e09fce62",
   "metadata": {
    "papermill": {
     "duration": 0.011148,
     "end_time": "2025-09-07T07:00:57.779884",
     "exception": false,
     "start_time": "2025-09-07T07:00:57.768736",
     "status": "completed"
    },
    "tags": []
   },
   "source": [
    "## 4. Data Loading and Postprocessing\n",
    "This cell loads the SQuAD dataset from JSON, flattens it into a DataFrame, and computes the answer end positions. It also initializes the tokenizer."
   ]
  },
  {
   "cell_type": "code",
   "execution_count": 5,
   "id": "f266921b",
   "metadata": {
    "execution": {
     "iopub.execute_input": "2025-09-07T07:00:57.803461Z",
     "iopub.status.busy": "2025-09-07T07:00:57.802700Z",
     "iopub.status.idle": "2025-09-07T07:00:57.808073Z",
     "shell.execute_reply": "2025-09-07T07:00:57.807318Z"
    },
    "papermill": {
     "duration": 0.018242,
     "end_time": "2025-09-07T07:00:57.809139",
     "exception": false,
     "start_time": "2025-09-07T07:00:57.790897",
     "status": "completed"
    },
    "tags": []
   },
   "outputs": [
    {
     "name": "stdout",
     "output_type": "stream",
     "text": [
      "Question:\n",
      "What is in front of the Notre Dame Main Building?\n",
      "\n",
      "Context:\n",
      "Architecturally, the school has a Catholic character. Atop the Main Building's gold dome is a golden statue of the Virgin Mary. Immediately in front of the Main Building and facing it, is a copper statue of Christ with arms upraised with the legend \"Venite Ad Me Omnes\". Next to the Main Building is the Basilica of the Sacred Heart. Immediately behind the basilica is the Grotto, a Marian place of prayer and reflection. It is a replica of the grotto at Lourdes, France where the Virgin Mary reputedly appeared to Saint Bernadette Soubirous in 1858. At the end of the main drive (and in a direct line that connects through 3 statues and the Gold Dome), is a simple, modern stone statue of Mary.\n",
      "\n",
      "Answer: a copper statue of Christ\n",
      "\n",
      "a copper statue of Christ\n"
     ]
    }
   ],
   "source": [
    "sample = df.iloc[1]\n",
    "\n",
    "print(\"Question:\\n{}\".format(sample[\"question\"]))\n",
    "print()\n",
    "print(\"Context:\\n{}\".format(sample[\"context\"]))\n",
    "print()\n",
    "print(\"Answer:\", sample[\"answer\"])\n",
    "print()\n",
    "print(sample[\"context\"][sample[\"answer_start\"] : sample[\"answer_end\"]])"
   ]
  },
  {
   "cell_type": "markdown",
   "id": "628ed5f4",
   "metadata": {
    "papermill": {
     "duration": 0.011129,
     "end_time": "2025-09-07T07:00:57.831267",
     "exception": false,
     "start_time": "2025-09-07T07:00:57.820138",
     "status": "completed"
    },
    "tags": []
   },
   "source": [
    "## 5. Data Sample Display\n",
    "This cell displays a sample question, context, and answer from the processed DataFrame to help visualize the data format."
   ]
  },
  {
   "cell_type": "code",
   "execution_count": 6,
   "id": "9b799aa8",
   "metadata": {
    "execution": {
     "iopub.execute_input": "2025-09-07T07:00:57.854170Z",
     "iopub.status.busy": "2025-09-07T07:00:57.853986Z",
     "iopub.status.idle": "2025-09-07T07:00:57.865258Z",
     "shell.execute_reply": "2025-09-07T07:00:57.864725Z"
    },
    "papermill": {
     "duration": 0.024081,
     "end_time": "2025-09-07T07:00:57.866332",
     "exception": false,
     "start_time": "2025-09-07T07:00:57.842251",
     "status": "completed"
    },
    "tags": []
   },
   "outputs": [
    {
     "data": {
      "text/plain": [
       "{'input_ids': [101, 2054, 2003, 1999, 2392, 1997, 1996, 10289, 8214, 2364, 2311, 1029, 102, 6549, 2135, 1010, 1996, 2082, 2038, 1037, 3234, 2839, 1012, 10234, 1996, 2364, 2311, 1005, 1055, 2751, 8514, 2003, 1037, 3585, 6231, 1997, 1996, 6261, 2984, 1012, 3202, 1999, 2392, 1997, 1996, 2364, 2311, 1998, 5307, 2009, 1010, 2003, 1037, 6967, 6231, 1997, 4828, 2007, 2608, 2039, 14995, 6924, 2007, 1996, 5722, 1000, 2310, 3490, 2618, 4748, 2033, 18168, 5267, 1000, 1012, 2279, 2000, 1996, 2364, 2311, 2003, 1996, 13546, 1997, 1996, 6730, 2540, 1012, 3202, 2369, 1996, 13546, 2003, 1996, 24665, 23052, 1010, 1037, 14042, 2173, 1997, 7083, 1998, 9185, 1012, 2009, 2003, 1037, 15059, 1997, 1996, 24665, 23052, 2012, 10223, 26371, 1010, 2605, 2073, 1996, 6261, 2984, 22353, 2135, 2596, 2000, 3002, 16595, 9648, 4674, 2061, 12083, 9711, 2271, 1999, 8517, 1012, 2012, 1996, 2203, 1997, 1996, 2364, 3298, 1006, 1998, 1999, 1037, 3622, 2240, 2008, 8539, 2083, 1017, 11342, 1998, 1996, 2751, 8514, 1007, 1010, 2003, 1037, 3722, 1010, 2715, 2962, 6231, 1997, 2984, 1012, 102], 'attention_mask': [1, 1, 1, 1, 1, 1, 1, 1, 1, 1, 1, 1, 1, 1, 1, 1, 1, 1, 1, 1, 1, 1, 1, 1, 1, 1, 1, 1, 1, 1, 1, 1, 1, 1, 1, 1, 1, 1, 1, 1, 1, 1, 1, 1, 1, 1, 1, 1, 1, 1, 1, 1, 1, 1, 1, 1, 1, 1, 1, 1, 1, 1, 1, 1, 1, 1, 1, 1, 1, 1, 1, 1, 1, 1, 1, 1, 1, 1, 1, 1, 1, 1, 1, 1, 1, 1, 1, 1, 1, 1, 1, 1, 1, 1, 1, 1, 1, 1, 1, 1, 1, 1, 1, 1, 1, 1, 1, 1, 1, 1, 1, 1, 1, 1, 1, 1, 1, 1, 1, 1, 1, 1, 1, 1, 1, 1, 1, 1, 1, 1, 1, 1, 1, 1, 1, 1, 1, 1, 1, 1, 1, 1, 1, 1, 1, 1, 1, 1, 1, 1, 1, 1, 1, 1, 1, 1, 1, 1, 1, 1, 1, 1, 1, 1, 1, 1, 1, 1, 1, 1, 1, 1], 'offset_mapping': [(0, 0), (0, 4), (5, 7), (8, 10), (11, 16), (17, 19), (20, 23), (24, 29), (30, 34), (35, 39), (40, 48), (48, 49), (0, 0), (0, 13), (13, 15), (15, 16), (17, 20), (21, 27), (28, 31), (32, 33), (34, 42), (43, 52), (52, 53), (54, 58), (59, 62), (63, 67), (68, 76), (76, 77), (77, 78), (79, 83), (84, 88), (89, 91), (92, 93), (94, 100), (101, 107), (108, 110), (111, 114), (115, 121), (122, 126), (126, 127), (128, 139), (140, 142), (143, 148), (149, 151), (152, 155), (156, 160), (161, 169), (170, 173), (174, 180), (181, 183), (183, 184), (185, 187), (188, 189), (190, 196), (197, 203), (204, 206), (207, 213), (214, 218), (219, 223), (224, 226), (226, 229), (229, 232), (233, 237), (238, 241), (242, 248), (249, 250), (250, 252), (252, 254), (254, 256), (257, 259), (260, 262), (263, 265), (265, 268), (268, 269), (269, 270), (271, 275), (276, 278), (279, 282), (283, 287), (288, 296), (297, 299), (300, 303), (304, 312), (313, 315), (316, 319), (320, 326), (327, 332), (332, 333), (334, 345), (346, 352), (353, 356), (357, 365), (366, 368), (369, 372), (373, 375), (375, 379), (379, 380), (381, 382), (383, 389), (390, 395), (396, 398), (399, 405), (406, 409), (410, 420), (420, 421), (422, 424), (425, 427), (428, 429), (430, 437), (438, 440), (441, 444), (445, 447), (447, 451), (452, 454), (455, 458), (458, 462), (462, 463), (464, 470), (471, 476), (477, 480), (481, 487), (488, 492), (493, 500), (500, 502), (503, 511), (512, 514), (515, 520), (521, 525), (525, 528), (528, 531), (532, 534), (534, 536), (536, 539), (539, 541), (542, 544), (545, 549), (549, 550), (551, 553), (554, 557), (558, 561), (562, 564), (565, 568), (569, 573), (574, 579), (580, 581), (581, 584), (585, 587), (588, 589), (590, 596), (597, 601), (602, 606), (607, 615), (616, 623), (624, 625), (626, 633), (634, 637), (638, 641), (642, 646), (647, 651), (651, 652), (652, 653), (654, 656), (657, 658), (659, 665), (665, 666), (667, 673), (674, 679), (680, 686), (687, 689), (690, 694), (694, 695), (0, 0)]}"
      ]
     },
     "execution_count": 6,
     "metadata": {},
     "output_type": "execute_result"
    }
   ],
   "source": [
    "enc = tokenizer(\n",
    "    sample[\"question\"],\n",
    "    sample[\"context\"],\n",
    "    \n",
    "    return_offsets_mapping=True\n",
    ")\n",
    "\n",
    "\n",
    "enc"
   ]
  },
  {
   "cell_type": "markdown",
   "id": "3cda0d62",
   "metadata": {
    "papermill": {
     "duration": 0.011148,
     "end_time": "2025-09-07T07:00:57.888857",
     "exception": false,
     "start_time": "2025-09-07T07:00:57.877709",
     "status": "completed"
    },
    "tags": []
   },
   "source": [
    "## 6. Tokenization Example\n",
    "This cell shows how the tokenizer processes a sample question and context, including offset mappings. Useful for understanding how character positions are mapped to tokens."
   ]
  },
  {
   "cell_type": "code",
   "execution_count": 7,
   "id": "5e37a418",
   "metadata": {
    "execution": {
     "iopub.execute_input": "2025-09-07T07:00:57.912156Z",
     "iopub.status.busy": "2025-09-07T07:00:57.911976Z",
     "iopub.status.idle": "2025-09-07T07:00:57.915625Z",
     "shell.execute_reply": "2025-09-07T07:00:57.915044Z"
    },
    "papermill": {
     "duration": 0.016572,
     "end_time": "2025-09-07T07:00:57.916687",
     "exception": false,
     "start_time": "2025-09-07T07:00:57.900115",
     "status": "completed"
    },
    "tags": []
   },
   "outputs": [
    {
     "name": "stdout",
     "output_type": "stream",
     "text": [
      "[None, 0, 0, 0, 0, 0, 0, 0, 0, 0, 0, 0, None, 1, 1, 1, 1, 1, 1, 1, 1, 1, 1, 1, 1, 1, 1, 1, 1, 1, 1, 1, 1, 1, 1, 1, 1, 1, 1, 1, 1, 1, 1, 1, 1, 1, 1, 1, 1, 1, 1, 1, 1, 1, 1, 1, 1, 1, 1, 1, 1, 1, 1, 1, 1, 1, 1, 1, 1, 1, 1, 1, 1, 1, 1, 1, 1, 1, 1, 1, 1, 1, 1, 1, 1, 1, 1, 1, 1, 1, 1, 1, 1, 1, 1, 1, 1, 1, 1, 1, 1, 1, 1, 1, 1, 1, 1, 1, 1, 1, 1, 1, 1, 1, 1, 1, 1, 1, 1, 1, 1, 1, 1, 1, 1, 1, 1, 1, 1, 1, 1, 1, 1, 1, 1, 1, 1, 1, 1, 1, 1, 1, 1, 1, 1, 1, 1, 1, 1, 1, 1, 1, 1, 1, 1, 1, 1, 1, 1, 1, 1, 1, 1, 1, 1, 1, 1, 1, 1, 1, 1, None]\n"
     ]
    }
   ],
   "source": [
    "print(enc.sequence_ids())"
   ]
  },
  {
   "cell_type": "markdown",
   "id": "047399ae",
   "metadata": {
    "papermill": {
     "duration": 0.054817,
     "end_time": "2025-09-07T07:00:57.982844",
     "exception": false,
     "start_time": "2025-09-07T07:00:57.928027",
     "status": "completed"
    },
    "tags": []
   },
   "source": [
    "## 7. Sequence IDs Display\n",
    "This cell prints the sequence IDs for the tokenized sample, showing which tokens belong to the question and which to the context."
   ]
  },
  {
   "cell_type": "code",
   "execution_count": 8,
   "id": "3d05791b",
   "metadata": {
    "_cell_guid": "b1076dfc-b9ad-4769-8c92-a6c4dae69d19",
    "_uuid": "8f2839f25d086af736a60e9eeb907d3b93b6e0e5",
    "execution": {
     "iopub.execute_input": "2025-09-07T07:00:58.006889Z",
     "iopub.status.busy": "2025-09-07T07:00:58.006618Z",
     "iopub.status.idle": "2025-09-07T07:00:58.034214Z",
     "shell.execute_reply": "2025-09-07T07:00:58.033656Z"
    },
    "papermill": {
     "duration": 0.041054,
     "end_time": "2025-09-07T07:00:58.035270",
     "exception": false,
     "start_time": "2025-09-07T07:00:57.994216",
     "status": "completed"
    },
    "tags": []
   },
   "outputs": [],
   "source": [
    "if config[\"debug\"]:\n",
    "    print(\"DEBUG MODE!!!\")\n",
    "    df = df.sample(10_000)\n",
    "\n",
    "\n",
    "\n",
    "train, valid = model_selection.train_test_split(\n",
    "    df,\n",
    "    test_size=0.25,\n",
    "    random_state=1123,\n",
    "    shuffle=True,\n",
    ")"
   ]
  },
  {
   "cell_type": "markdown",
   "id": "3ae22be1",
   "metadata": {
    "papermill": {
     "duration": 0.011335,
     "end_time": "2025-09-07T07:00:58.057843",
     "exception": false,
     "start_time": "2025-09-07T07:00:58.046508",
     "status": "completed"
    },
    "tags": []
   },
   "source": [
    "## 8. Train/Validation Split\n",
    "This cell splits the processed DataFrame into training and validation sets for model training and evaluation."
   ]
  },
  {
   "cell_type": "code",
   "execution_count": 9,
   "id": "7ec15397",
   "metadata": {
    "execution": {
     "iopub.execute_input": "2025-09-07T07:00:58.081143Z",
     "iopub.status.busy": "2025-09-07T07:00:58.080917Z",
     "iopub.status.idle": "2025-09-07T07:00:58.706231Z",
     "shell.execute_reply": "2025-09-07T07:00:58.705640Z"
    },
    "papermill": {
     "duration": 0.638555,
     "end_time": "2025-09-07T07:00:58.707571",
     "exception": false,
     "start_time": "2025-09-07T07:00:58.069016",
     "status": "completed"
    },
    "tags": []
   },
   "outputs": [],
   "source": [
    "train_ds = Dataset.from_pandas(train)\n",
    "valid_ds = Dataset.from_pandas(valid)"
   ]
  },
  {
   "cell_type": "markdown",
   "id": "a8d91e0e",
   "metadata": {
    "papermill": {
     "duration": 0.011244,
     "end_time": "2025-09-07T07:00:58.730926",
     "exception": false,
     "start_time": "2025-09-07T07:00:58.719682",
     "status": "completed"
    },
    "tags": []
   },
   "source": [
    "## 9. Dataset Creation\n",
    "This cell converts the train and validation DataFrames into HuggingFace Dataset objects for efficient processing and training."
   ]
  },
  {
   "cell_type": "code",
   "execution_count": 10,
   "id": "931a3ebc",
   "metadata": {
    "execution": {
     "iopub.execute_input": "2025-09-07T07:00:58.754482Z",
     "iopub.status.busy": "2025-09-07T07:00:58.754226Z",
     "iopub.status.idle": "2025-09-07T07:02:30.590040Z",
     "shell.execute_reply": "2025-09-07T07:02:30.589188Z"
    },
    "papermill": {
     "duration": 91.849027,
     "end_time": "2025-09-07T07:02:30.591160",
     "exception": false,
     "start_time": "2025-09-07T07:00:58.742133",
     "status": "completed"
    },
    "tags": []
   },
   "outputs": [
    {
     "data": {
      "application/vnd.jupyter.widget-view+json": {
       "model_id": "e97288426c8048a18618f1339904bf76",
       "version_major": 2,
       "version_minor": 0
      },
      "text/plain": [
       "Map:   0%|          | 0/65699 [00:00<?, ? examples/s]"
      ]
     },
     "metadata": {},
     "output_type": "display_data"
    },
    {
     "data": {
      "application/vnd.jupyter.widget-view+json": {
       "model_id": "21b379c2696940138fcfd004df26b309",
       "version_major": 2,
       "version_minor": 0
      },
      "text/plain": [
       "Map:   0%|          | 0/21900 [00:00<?, ? examples/s]"
      ]
     },
     "metadata": {},
     "output_type": "display_data"
    },
    {
     "name": "stdout",
     "output_type": "stream",
     "text": [
      "CPU times: user 1min 31s, sys: 645 ms, total: 1min 32s\n",
      "Wall time: 1min 31s\n"
     ]
    }
   ],
   "source": [
    "%%time\n",
    "\n",
    "train_ds = train_ds.map(preprocess_function)\n",
    "valid_ds = valid_ds.map(preprocess_function)"
   ]
  },
  {
   "cell_type": "markdown",
   "id": "691d4f0b",
   "metadata": {
    "papermill": {
     "duration": 0.011358,
     "end_time": "2025-09-07T07:02:30.614503",
     "exception": false,
     "start_time": "2025-09-07T07:02:30.603145",
     "status": "completed"
    },
    "tags": []
   },
   "source": [
    "## 10. Preprocessing Datasets\n",
    "This cell applies the preprocessing function to the train and validation datasets, preparing them for model training."
   ]
  },
  {
   "cell_type": "code",
   "execution_count": 11,
   "id": "d7666899",
   "metadata": {
    "execution": {
     "iopub.execute_input": "2025-09-07T07:02:30.638263Z",
     "iopub.status.busy": "2025-09-07T07:02:30.638032Z",
     "iopub.status.idle": "2025-09-07T07:02:30.641313Z",
     "shell.execute_reply": "2025-09-07T07:02:30.640620Z"
    },
    "papermill": {
     "duration": 0.016393,
     "end_time": "2025-09-07T07:02:30.642448",
     "exception": false,
     "start_time": "2025-09-07T07:02:30.626055",
     "status": "completed"
    },
    "tags": []
   },
   "outputs": [],
   "source": [
    "# train_ds[0]"
   ]
  },
  {
   "cell_type": "code",
   "execution_count": 12,
   "id": "ab74ae72",
   "metadata": {
    "execution": {
     "iopub.execute_input": "2025-09-07T07:02:30.666200Z",
     "iopub.status.busy": "2025-09-07T07:02:30.666002Z",
     "iopub.status.idle": "2025-09-07T07:02:57.561154Z",
     "shell.execute_reply": "2025-09-07T07:02:57.560535Z"
    },
    "papermill": {
     "duration": 26.908143,
     "end_time": "2025-09-07T07:02:57.562352",
     "exception": false,
     "start_time": "2025-09-07T07:02:30.654209",
     "status": "completed"
    },
    "tags": []
   },
   "outputs": [
    {
     "name": "stderr",
     "output_type": "stream",
     "text": [
      "2025-09-07 07:02:41.387301: E external/local_xla/xla/stream_executor/cuda/cuda_fft.cc:477] Unable to register cuFFT factory: Attempting to register factory for plugin cuFFT when one has already been registered\n",
      "WARNING: All log messages before absl::InitializeLog() is called are written to STDERR\n",
      "E0000 00:00:1757228561.708061      19 cuda_dnn.cc:8310] Unable to register cuDNN factory: Attempting to register factory for plugin cuDNN when one has already been registered\n",
      "E0000 00:00:1757228561.807364      19 cuda_blas.cc:1418] Unable to register cuBLAS factory: Attempting to register factory for plugin cuBLAS when one has already been registered\n"
     ]
    },
    {
     "data": {
      "application/vnd.jupyter.widget-view+json": {
       "model_id": "841d1cb55d4c41fd993aa22eb4709594",
       "version_major": 2,
       "version_minor": 0
      },
      "text/plain": [
       "model.safetensors:   0%|          | 0.00/268M [00:00<?, ?B/s]"
      ]
     },
     "metadata": {},
     "output_type": "display_data"
    },
    {
     "name": "stderr",
     "output_type": "stream",
     "text": [
      "Some weights of DistilBertForQuestionAnswering were not initialized from the model checkpoint at distilbert-base-uncased and are newly initialized: ['qa_outputs.bias', 'qa_outputs.weight']\n",
      "You should probably TRAIN this model on a down-stream task to be able to use it for predictions and inference.\n"
     ]
    }
   ],
   "source": [
    "model = transformers.AutoModelForQuestionAnswering.from_pretrained(\n",
    "    config[\"model_path\"]\n",
    ")"
   ]
  },
  {
   "cell_type": "markdown",
   "id": "ad48da15",
   "metadata": {
    "papermill": {
     "duration": 0.011468,
     "end_time": "2025-09-07T07:02:57.586341",
     "exception": false,
     "start_time": "2025-09-07T07:02:57.574873",
     "status": "completed"
    },
    "tags": []
   },
   "source": [
    "## 11. Model Initialization\n",
    "This cell loads the DistilBERT model for question answering using HuggingFace Transformers."
   ]
  },
  {
   "cell_type": "code",
   "execution_count": 13,
   "id": "86f5bf9a",
   "metadata": {
    "execution": {
     "iopub.execute_input": "2025-09-07T07:02:57.611704Z",
     "iopub.status.busy": "2025-09-07T07:02:57.611007Z",
     "iopub.status.idle": "2025-09-07T07:02:57.616192Z",
     "shell.execute_reply": "2025-09-07T07:02:57.615517Z"
    },
    "papermill": {
     "duration": 0.019149,
     "end_time": "2025-09-07T07:02:57.617176",
     "exception": false,
     "start_time": "2025-09-07T07:02:57.598027",
     "status": "completed"
    },
    "tags": []
   },
   "outputs": [
    {
     "data": {
      "text/plain": [
       "DistilBertForQuestionAnswering(\n",
       "  (distilbert): DistilBertModel(\n",
       "    (embeddings): Embeddings(\n",
       "      (word_embeddings): Embedding(30522, 768, padding_idx=0)\n",
       "      (position_embeddings): Embedding(512, 768)\n",
       "      (LayerNorm): LayerNorm((768,), eps=1e-12, elementwise_affine=True)\n",
       "      (dropout): Dropout(p=0.1, inplace=False)\n",
       "    )\n",
       "    (transformer): Transformer(\n",
       "      (layer): ModuleList(\n",
       "        (0-5): 6 x TransformerBlock(\n",
       "          (attention): DistilBertSdpaAttention(\n",
       "            (dropout): Dropout(p=0.1, inplace=False)\n",
       "            (q_lin): Linear(in_features=768, out_features=768, bias=True)\n",
       "            (k_lin): Linear(in_features=768, out_features=768, bias=True)\n",
       "            (v_lin): Linear(in_features=768, out_features=768, bias=True)\n",
       "            (out_lin): Linear(in_features=768, out_features=768, bias=True)\n",
       "          )\n",
       "          (sa_layer_norm): LayerNorm((768,), eps=1e-12, elementwise_affine=True)\n",
       "          (ffn): FFN(\n",
       "            (dropout): Dropout(p=0.1, inplace=False)\n",
       "            (lin1): Linear(in_features=768, out_features=3072, bias=True)\n",
       "            (lin2): Linear(in_features=3072, out_features=768, bias=True)\n",
       "            (activation): GELUActivation()\n",
       "          )\n",
       "          (output_layer_norm): LayerNorm((768,), eps=1e-12, elementwise_affine=True)\n",
       "        )\n",
       "      )\n",
       "    )\n",
       "  )\n",
       "  (qa_outputs): Linear(in_features=768, out_features=2, bias=True)\n",
       "  (dropout): Dropout(p=0.1, inplace=False)\n",
       ")"
      ]
     },
     "execution_count": 13,
     "metadata": {},
     "output_type": "execute_result"
    }
   ],
   "source": [
    "model"
   ]
  },
  {
   "cell_type": "code",
   "execution_count": 14,
   "id": "577d1abe",
   "metadata": {
    "execution": {
     "iopub.execute_input": "2025-09-07T07:02:57.641584Z",
     "iopub.status.busy": "2025-09-07T07:02:57.641364Z",
     "iopub.status.idle": "2025-09-07T07:02:57.787076Z",
     "shell.execute_reply": "2025-09-07T07:02:57.786418Z"
    },
    "papermill": {
     "duration": 0.159158,
     "end_time": "2025-09-07T07:02:57.788196",
     "exception": false,
     "start_time": "2025-09-07T07:02:57.629038",
     "status": "completed"
    },
    "tags": []
   },
   "outputs": [
    {
     "data": {
      "text/plain": [
       "QuestionAnsweringModelOutput(loss=None, start_logits=tensor([[-0.1381, -0.0645,  0.3512,  0.2330,  0.3512]]), end_logits=tensor([[-0.2287,  0.0357, -0.0914,  0.0028, -0.0913]]), hidden_states=None, attentions=None)"
      ]
     },
     "execution_count": 14,
     "metadata": {},
     "output_type": "execute_result"
    }
   ],
   "source": [
    "with torch.no_grad():\n",
    "    out = model(**tokenizer(\"hello\", \"world\", return_tensors=\"pt\"))\n",
    "    \n",
    "out"
   ]
  },
  {
   "cell_type": "code",
   "execution_count": 15,
   "id": "63e05911",
   "metadata": {
    "execution": {
     "iopub.execute_input": "2025-09-07T07:02:57.820809Z",
     "iopub.status.busy": "2025-09-07T07:02:57.820321Z",
     "iopub.status.idle": "2025-09-07T07:02:57.897970Z",
     "shell.execute_reply": "2025-09-07T07:02:57.897206Z"
    },
    "papermill": {
     "duration": 0.097813,
     "end_time": "2025-09-07T07:02:57.899189",
     "exception": false,
     "start_time": "2025-09-07T07:02:57.801376",
     "status": "completed"
    },
    "tags": []
   },
   "outputs": [],
   "source": [
    "import numpy as np\n",
    "\n",
    "def compute_metrics(eval_data):\n",
    "    logits, labels = eval_data\n",
    "    pred_start_pos = np.argmax(logits[0], axis=-1)\n",
    "    pred_end_pos = np.argmax(logits[1], axis=-1)\n",
    "\n",
    "    scores = []\n",
    "    for pred_start, pred_end, (label_start, label_end) in zip(pred_start_pos, pred_end_pos, zip(*labels)):\n",
    "        pred_tokens = set(range(pred_start, pred_end + 1))\n",
    "        label_tokens = set(range(label_start, label_end + 1))\n",
    "        intersection = len(pred_tokens & label_tokens)\n",
    "        union = len(pred_tokens | label_tokens)\n",
    "        iou = intersection / union if union > 0 else 0.0\n",
    "        scores.append(iou)\n",
    "    return {\n",
    "        \"iou\": np.mean(scores)\n",
    "    }\n",
    "\n",
    "\n",
    "training_args = transformers.TrainingArguments(\n",
    "    output_dir = config[\"output_dir\"],\n",
    "\n",
    "    eval_strategy=\"epoch\",\n",
    "    per_device_train_batch_size=config[\"train_batch_size\"],\n",
    "    per_device_eval_batch_size=config[\"valid_batch_size\"],\n",
    "    learning_rate=config[\"learning_rate\"],\n",
    "    num_train_epochs=config[\"epochs\"],\n",
    "    dataloader_num_workers=4,\n",
    "\n",
    "    save_strategy=\"epoch\",\n",
    "    save_total_limit=2,\n",
    "    report_to=\"none\",\n",
    "\n",
    "    load_best_model_at_end=True,\n",
    "    fp16=True,\n",
    ")"
   ]
  },
  {
   "cell_type": "markdown",
   "id": "f7c676ea",
   "metadata": {
    "papermill": {
     "duration": 0.011995,
     "end_time": "2025-09-07T07:02:57.923773",
     "exception": false,
     "start_time": "2025-09-07T07:02:57.911778",
     "status": "completed"
    },
    "tags": []
   },
   "source": [
    "## 12. Custom Metric and Training Arguments\n",
    "This cell defines the token-level IoU metric for evaluation and sets up the training arguments for the Trainer."
   ]
  },
  {
   "cell_type": "code",
   "execution_count": 16,
   "id": "c5c3a667",
   "metadata": {
    "execution": {
     "iopub.execute_input": "2025-09-07T07:02:57.948876Z",
     "iopub.status.busy": "2025-09-07T07:02:57.948637Z",
     "iopub.status.idle": "2025-09-07T07:03:00.730817Z",
     "shell.execute_reply": "2025-09-07T07:03:00.730197Z"
    },
    "papermill": {
     "duration": 2.796069,
     "end_time": "2025-09-07T07:03:00.732038",
     "exception": false,
     "start_time": "2025-09-07T07:02:57.935969",
     "status": "completed"
    },
    "tags": []
   },
   "outputs": [
    {
     "name": "stderr",
     "output_type": "stream",
     "text": [
      "/tmp/ipykernel_19/2513056911.py:1: FutureWarning: `tokenizer` is deprecated and will be removed in version 5.0.0 for `Trainer.__init__`. Use `processing_class` instead.\n",
      "  trainer = transformers.Trainer(\n"
     ]
    }
   ],
   "source": [
    "trainer = transformers.Trainer(\n",
    "    model,\n",
    "    training_args,\n",
    "    \n",
    "    train_dataset=train_ds,\n",
    "    eval_dataset=valid_ds,\n",
    "    \n",
    "    tokenizer=tokenizer,\n",
    "    compute_metrics=compute_metrics\n",
    ")\n"
   ]
  },
  {
   "cell_type": "markdown",
   "id": "92dfc8cd",
   "metadata": {
    "papermill": {
     "duration": 0.011738,
     "end_time": "2025-09-07T07:03:00.756450",
     "exception": false,
     "start_time": "2025-09-07T07:03:00.744712",
     "status": "completed"
    },
    "tags": []
   },
   "source": [
    "## 13. Trainer Initialization\n",
    "This cell initializes the HuggingFace Trainer with the model, training arguments, datasets, tokenizer, and custom metric."
   ]
  },
  {
   "cell_type": "code",
   "execution_count": 17,
   "id": "c884286f",
   "metadata": {
    "execution": {
     "iopub.execute_input": "2025-09-07T07:03:00.780949Z",
     "iopub.status.busy": "2025-09-07T07:03:00.780725Z",
     "iopub.status.idle": "2025-09-07T08:16:45.631968Z",
     "shell.execute_reply": "2025-09-07T08:16:45.631115Z"
    },
    "papermill": {
     "duration": 4424.86508,
     "end_time": "2025-09-07T08:16:45.633419",
     "exception": false,
     "start_time": "2025-09-07T07:03:00.768339",
     "status": "completed"
    },
    "tags": []
   },
   "outputs": [
    {
     "name": "stderr",
     "output_type": "stream",
     "text": [
      "/usr/local/lib/python3.11/dist-packages/torch/nn/parallel/_functions.py:70: UserWarning: Was asked to gather along dimension 0, but all input tensors were scalars; will instead unsqueeze and return a vector.\n",
      "  warnings.warn(\n"
     ]
    },
    {
     "data": {
      "text/html": [
       "\n",
       "    <div>\n",
       "      \n",
       "      <progress value='8214' max='8214' style='width:300px; height:20px; vertical-align: middle;'></progress>\n",
       "      [8214/8214 1:13:41, Epoch 2/2]\n",
       "    </div>\n",
       "    <table border=\"1\" class=\"dataframe\">\n",
       "  <thead>\n",
       " <tr style=\"text-align: left;\">\n",
       "      <th>Epoch</th>\n",
       "      <th>Training Loss</th>\n",
       "      <th>Validation Loss</th>\n",
       "      <th>Iou</th>\n",
       "    </tr>\n",
       "  </thead>\n",
       "  <tbody>\n",
       "    <tr>\n",
       "      <td>1</td>\n",
       "      <td>1.222200</td>\n",
       "      <td>1.114534</td>\n",
       "      <td>0.692941</td>\n",
       "    </tr>\n",
       "    <tr>\n",
       "      <td>2</td>\n",
       "      <td>0.904700</td>\n",
       "      <td>1.082789</td>\n",
       "      <td>0.712630</td>\n",
       "    </tr>\n",
       "  </tbody>\n",
       "</table><p>"
      ],
      "text/plain": [
       "<IPython.core.display.HTML object>"
      ]
     },
     "metadata": {},
     "output_type": "display_data"
    },
    {
     "name": "stderr",
     "output_type": "stream",
     "text": [
      "/usr/local/lib/python3.11/dist-packages/torch/nn/parallel/_functions.py:70: UserWarning: Was asked to gather along dimension 0, but all input tensors were scalars; will instead unsqueeze and return a vector.\n",
      "  warnings.warn(\n"
     ]
    }
   ],
   "source": [
    "trainer.train()\n",
    "trainer.save_state()\n",
    "trainer.save_model()"
   ]
  },
  {
   "cell_type": "markdown",
   "id": "4d98ecb6",
   "metadata": {
    "papermill": {
     "duration": 0.014962,
     "end_time": "2025-09-07T08:16:45.663848",
     "exception": false,
     "start_time": "2025-09-07T08:16:45.648886",
     "status": "completed"
    },
    "tags": []
   },
   "source": [
    "## 14. Model Training and Saving\n",
    "This cell trains the model, saves the training state, and exports the trained model for inference."
   ]
  },
  {
   "cell_type": "code",
   "execution_count": 18,
   "id": "ebe85a23",
   "metadata": {
    "execution": {
     "iopub.execute_input": "2025-09-07T08:16:45.698723Z",
     "iopub.status.busy": "2025-09-07T08:16:45.698449Z",
     "iopub.status.idle": "2025-09-07T08:16:46.186978Z",
     "shell.execute_reply": "2025-09-07T08:16:46.186431Z"
    },
    "papermill": {
     "duration": 0.506658,
     "end_time": "2025-09-07T08:16:46.188210",
     "exception": false,
     "start_time": "2025-09-07T08:16:45.681552",
     "status": "completed"
    },
    "tags": []
   },
   "outputs": [
    {
     "name": "stderr",
     "output_type": "stream",
     "text": [
      "Device set to use cuda\n"
     ]
    }
   ],
   "source": [
    "# Inference\n",
    "\n",
    "from transformers import pipeline\n",
    "\n",
    "qa_pipeline = pipeline(\n",
    "    task=\"question-answering\",\n",
    "    model=config[\"output_dir\"],\n",
    "    device=\"cuda\"\n",
    ")"
   ]
  },
  {
   "cell_type": "markdown",
   "id": "6ad6343c",
   "metadata": {
    "papermill": {
     "duration": 0.011993,
     "end_time": "2025-09-07T08:16:46.213161",
     "exception": false,
     "start_time": "2025-09-07T08:16:46.201168",
     "status": "completed"
    },
    "tags": []
   },
   "source": [
    "## 15. Inference Pipeline\n",
    "This cell sets up the HuggingFace pipeline for question answering using the trained model, enabling predictions on new data."
   ]
  },
  {
   "cell_type": "code",
   "execution_count": 19,
   "id": "919cf1af",
   "metadata": {
    "execution": {
     "iopub.execute_input": "2025-09-07T08:16:46.238845Z",
     "iopub.status.busy": "2025-09-07T08:16:46.238155Z",
     "iopub.status.idle": "2025-09-07T08:16:46.392118Z",
     "shell.execute_reply": "2025-09-07T08:16:46.391421Z"
    },
    "papermill": {
     "duration": 0.167982,
     "end_time": "2025-09-07T08:16:46.393532",
     "exception": false,
     "start_time": "2025-09-07T08:16:46.225550",
     "status": "completed"
    },
    "tags": []
   },
   "outputs": [
    {
     "name": "stderr",
     "output_type": "stream",
     "text": [
      "You seem to be using the pipelines sequentially on GPU. In order to maximize efficiency please use a dataset\n"
     ]
    }
   ],
   "source": [
    "preds = []\n",
    "\n",
    "for idx, row in valid.reset_index(drop=True).iterrows():\n",
    "    context = row[\"context\"]\n",
    "    question = row[\"question\"]\n",
    "    \n",
    "    pred = qa_pipeline(\n",
    "        question=question,\n",
    "        context=context\n",
    "    )\n",
    "    \n",
    "    \n",
    "    preds.append(\n",
    "        pred\n",
    "    )\n",
    "    \n",
    "    if idx == 10:\n",
    "        break"
   ]
  },
  {
   "cell_type": "markdown",
   "id": "5381ce7a",
   "metadata": {
    "papermill": {
     "duration": 0.013555,
     "end_time": "2025-09-07T08:16:46.422399",
     "exception": false,
     "start_time": "2025-09-07T08:16:46.408844",
     "status": "completed"
    },
    "tags": []
   },
   "source": [
    "## 16. Run Predictions on Validation Set\n",
    "This cell uses the inference pipeline to generate predictions for the first 11 samples in the validation set."
   ]
  },
  {
   "cell_type": "code",
   "execution_count": 20,
   "id": "1a49103b",
   "metadata": {
    "execution": {
     "iopub.execute_input": "2025-09-07T08:16:46.450133Z",
     "iopub.status.busy": "2025-09-07T08:16:46.449896Z",
     "iopub.status.idle": "2025-09-07T08:16:46.479832Z",
     "shell.execute_reply": "2025-09-07T08:16:46.479131Z"
    },
    "papermill": {
     "duration": 0.044606,
     "end_time": "2025-09-07T08:16:46.480853",
     "exception": false,
     "start_time": "2025-09-07T08:16:46.436247",
     "status": "completed"
    },
    "tags": []
   },
   "outputs": [
    {
     "data": {
      "text/html": [
       "<div>\n",
       "<style scoped>\n",
       "    .dataframe tbody tr th:only-of-type {\n",
       "        vertical-align: middle;\n",
       "    }\n",
       "\n",
       "    .dataframe tbody tr th {\n",
       "        vertical-align: top;\n",
       "    }\n",
       "\n",
       "    .dataframe thead th {\n",
       "        text-align: right;\n",
       "    }\n",
       "</style>\n",
       "<table border=\"1\" class=\"dataframe\">\n",
       "  <thead>\n",
       "    <tr style=\"text-align: right;\">\n",
       "      <th></th>\n",
       "      <th>score</th>\n",
       "      <th>start</th>\n",
       "      <th>end</th>\n",
       "      <th>answer</th>\n",
       "      <th>gold_answer</th>\n",
       "    </tr>\n",
       "  </thead>\n",
       "  <tbody>\n",
       "    <tr>\n",
       "      <th>0</th>\n",
       "      <td>0.996172</td>\n",
       "      <td>267</td>\n",
       "      <td>271</td>\n",
       "      <td>1861</td>\n",
       "      <td>1861</td>\n",
       "    </tr>\n",
       "    <tr>\n",
       "      <th>1</th>\n",
       "      <td>0.022319</td>\n",
       "      <td>514</td>\n",
       "      <td>597</td>\n",
       "      <td>Some ethnic groups are concerned about the pot...</td>\n",
       "      <td>federal assistance</td>\n",
       "    </tr>\n",
       "    <tr>\n",
       "      <th>2</th>\n",
       "      <td>0.178762</td>\n",
       "      <td>307</td>\n",
       "      <td>320</td>\n",
       "      <td>Anglo-Burmese</td>\n",
       "      <td>Anglo-Burmese</td>\n",
       "    </tr>\n",
       "    <tr>\n",
       "      <th>3</th>\n",
       "      <td>0.152809</td>\n",
       "      <td>236</td>\n",
       "      <td>303</td>\n",
       "      <td>such that the \"off\" output is limited to leaka...</td>\n",
       "      <td>the \"off\" output is limited to leakage current...</td>\n",
       "    </tr>\n",
       "    <tr>\n",
       "      <th>4</th>\n",
       "      <td>0.421363</td>\n",
       "      <td>207</td>\n",
       "      <td>257</td>\n",
       "      <td>Singer songwriter Cathal Coughlan and Sean O'H...</td>\n",
       "      <td>Cathal Coughlan and Sean O'Hagan</td>\n",
       "    </tr>\n",
       "    <tr>\n",
       "      <th>5</th>\n",
       "      <td>0.551454</td>\n",
       "      <td>698</td>\n",
       "      <td>718</td>\n",
       "      <td>Federal Reserve Note</td>\n",
       "      <td>Federal Reserve Note</td>\n",
       "    </tr>\n",
       "    <tr>\n",
       "      <th>6</th>\n",
       "      <td>0.725555</td>\n",
       "      <td>7</td>\n",
       "      <td>31</td>\n",
       "      <td>U.S. News &amp; World Report</td>\n",
       "      <td>U.S. News &amp; World Report</td>\n",
       "    </tr>\n",
       "    <tr>\n",
       "      <th>7</th>\n",
       "      <td>0.296175</td>\n",
       "      <td>118</td>\n",
       "      <td>122</td>\n",
       "      <td>bats</td>\n",
       "      <td>islands</td>\n",
       "    </tr>\n",
       "    <tr>\n",
       "      <th>8</th>\n",
       "      <td>0.355743</td>\n",
       "      <td>0</td>\n",
       "      <td>8</td>\n",
       "      <td>Pius XII</td>\n",
       "      <td>Second World Congress of Lay Apostolate</td>\n",
       "    </tr>\n",
       "    <tr>\n",
       "      <th>9</th>\n",
       "      <td>0.917606</td>\n",
       "      <td>607</td>\n",
       "      <td>616</td>\n",
       "      <td>one third</td>\n",
       "      <td>one third</td>\n",
       "    </tr>\n",
       "    <tr>\n",
       "      <th>10</th>\n",
       "      <td>0.335778</td>\n",
       "      <td>117</td>\n",
       "      <td>177</td>\n",
       "      <td>Fighting climate change: Human solidarity in a...</td>\n",
       "      <td>Fighting climate change: Human solidarity in a...</td>\n",
       "    </tr>\n",
       "  </tbody>\n",
       "</table>\n",
       "</div>"
      ],
      "text/plain": [
       "       score  start  end                                             answer  \\\n",
       "0   0.996172    267  271                                               1861   \n",
       "1   0.022319    514  597  Some ethnic groups are concerned about the pot...   \n",
       "2   0.178762    307  320                                      Anglo-Burmese   \n",
       "3   0.152809    236  303  such that the \"off\" output is limited to leaka...   \n",
       "4   0.421363    207  257  Singer songwriter Cathal Coughlan and Sean O'H...   \n",
       "5   0.551454    698  718                               Federal Reserve Note   \n",
       "6   0.725555      7   31                           U.S. News & World Report   \n",
       "7   0.296175    118  122                                               bats   \n",
       "8   0.355743      0    8                                           Pius XII   \n",
       "9   0.917606    607  616                                          one third   \n",
       "10  0.335778    117  177  Fighting climate change: Human solidarity in a...   \n",
       "\n",
       "                                          gold_answer  \n",
       "0                                                1861  \n",
       "1                                  federal assistance  \n",
       "2                                       Anglo-Burmese  \n",
       "3   the \"off\" output is limited to leakage current...  \n",
       "4                    Cathal Coughlan and Sean O'Hagan  \n",
       "5                                Federal Reserve Note  \n",
       "6                            U.S. News & World Report  \n",
       "7                                             islands  \n",
       "8             Second World Congress of Lay Apostolate  \n",
       "9                                           one third  \n",
       "10  Fighting climate change: Human solidarity in a...  "
      ]
     },
     "execution_count": 20,
     "metadata": {},
     "output_type": "execute_result"
    }
   ],
   "source": [
    "pred_df = pd.DataFrame(preds)\n",
    "pred_df[\"gold_answer\"] = valid[\"answer\"].tolist()[: 11]\n",
    "\n",
    "pred_df"
   ]
  },
  {
   "cell_type": "code",
   "execution_count": null,
   "id": "e7df6479",
   "metadata": {
    "papermill": {
     "duration": 0.012194,
     "end_time": "2025-09-07T08:16:46.505681",
     "exception": false,
     "start_time": "2025-09-07T08:16:46.493487",
     "status": "completed"
    },
    "tags": []
   },
   "outputs": [],
   "source": []
  }
 ],
 "metadata": {
  "kaggle": {
   "accelerator": "nvidiaTeslaT4",
   "dataSources": [
    {
     "databundleVersionId": 2541553,
     "sourceId": 30060,
     "sourceType": "competition"
    },
    {
     "datasetId": 374,
     "sourceId": 799923,
     "sourceType": "datasetVersion"
    }
   ],
   "dockerImageVersionId": 31090,
   "isGpuEnabled": true,
   "isInternetEnabled": true,
   "language": "python",
   "sourceType": "notebook"
  },
  "kernelspec": {
   "display_name": "Python 3",
   "language": "python",
   "name": "python3"
  },
  "language_info": {
   "codemirror_mode": {
    "name": "ipython",
    "version": 3
   },
   "file_extension": ".py",
   "mimetype": "text/x-python",
   "name": "python",
   "nbconvert_exporter": "python",
   "pygments_lexer": "ipython3",
   "version": "3.11.13"
  },
  "papermill": {
   "default_parameters": {},
   "duration": 4575.559567,
   "end_time": "2025-09-07T08:16:50.364950",
   "environment_variables": {},
   "exception": null,
   "input_path": "__notebook__.ipynb",
   "output_path": "__notebook__.ipynb",
   "parameters": {},
   "start_time": "2025-09-07T07:00:34.805383",
   "version": "2.6.0"
  },
  "widgets": {
   "application/vnd.jupyter.widget-state+json": {
    "state": {
     "007bcf6eec94418c86defc0dfe85b849": {
      "model_module": "@jupyter-widgets/controls",
      "model_module_version": "2.0.0",
      "model_name": "FloatProgressModel",
      "state": {
       "_dom_classes": [],
       "_model_module": "@jupyter-widgets/controls",
       "_model_module_version": "2.0.0",
       "_model_name": "FloatProgressModel",
       "_view_count": null,
       "_view_module": "@jupyter-widgets/controls",
       "_view_module_version": "2.0.0",
       "_view_name": "ProgressView",
       "bar_style": "success",
       "description": "",
       "description_allow_html": false,
       "layout": "IPY_MODEL_6efd29f6fa8e4620865951ffe096fc5d",
       "max": 65699,
       "min": 0,
       "orientation": "horizontal",
       "style": "IPY_MODEL_d47c930da9ba4bb18d852fca9ef8cc48",
       "tabbable": null,
       "tooltip": null,
       "value": 65699
      }
     },
     "01a77928674a48dc8af74cd48dff4f96": {
      "model_module": "@jupyter-widgets/base",
      "model_module_version": "2.0.0",
      "model_name": "LayoutModel",
      "state": {
       "_model_module": "@jupyter-widgets/base",
       "_model_module_version": "2.0.0",
       "_model_name": "LayoutModel",
       "_view_count": null,
       "_view_module": "@jupyter-widgets/base",
       "_view_module_version": "2.0.0",
       "_view_name": "LayoutView",
       "align_content": null,
       "align_items": null,
       "align_self": null,
       "border_bottom": null,
       "border_left": null,
       "border_right": null,
       "border_top": null,
       "bottom": null,
       "display": null,
       "flex": null,
       "flex_flow": null,
       "grid_area": null,
       "grid_auto_columns": null,
       "grid_auto_flow": null,
       "grid_auto_rows": null,
       "grid_column": null,
       "grid_gap": null,
       "grid_row": null,
       "grid_template_areas": null,
       "grid_template_columns": null,
       "grid_template_rows": null,
       "height": null,
       "justify_content": null,
       "justify_items": null,
       "left": null,
       "margin": null,
       "max_height": null,
       "max_width": null,
       "min_height": null,
       "min_width": null,
       "object_fit": null,
       "object_position": null,
       "order": null,
       "overflow": null,
       "padding": null,
       "right": null,
       "top": null,
       "visibility": null,
       "width": null
      }
     },
     "0cbdf492338c4a86b19de0bba80472e9": {
      "model_module": "@jupyter-widgets/base",
      "model_module_version": "2.0.0",
      "model_name": "LayoutModel",
      "state": {
       "_model_module": "@jupyter-widgets/base",
       "_model_module_version": "2.0.0",
       "_model_name": "LayoutModel",
       "_view_count": null,
       "_view_module": "@jupyter-widgets/base",
       "_view_module_version": "2.0.0",
       "_view_name": "LayoutView",
       "align_content": null,
       "align_items": null,
       "align_self": null,
       "border_bottom": null,
       "border_left": null,
       "border_right": null,
       "border_top": null,
       "bottom": null,
       "display": null,
       "flex": null,
       "flex_flow": null,
       "grid_area": null,
       "grid_auto_columns": null,
       "grid_auto_flow": null,
       "grid_auto_rows": null,
       "grid_column": null,
       "grid_gap": null,
       "grid_row": null,
       "grid_template_areas": null,
       "grid_template_columns": null,
       "grid_template_rows": null,
       "height": null,
       "justify_content": null,
       "justify_items": null,
       "left": null,
       "margin": null,
       "max_height": null,
       "max_width": null,
       "min_height": null,
       "min_width": null,
       "object_fit": null,
       "object_position": null,
       "order": null,
       "overflow": null,
       "padding": null,
       "right": null,
       "top": null,
       "visibility": null,
       "width": null
      }
     },
     "0dd76e149bc24ebaac34d802afb4abc0": {
      "model_module": "@jupyter-widgets/controls",
      "model_module_version": "2.0.0",
      "model_name": "FloatProgressModel",
      "state": {
       "_dom_classes": [],
       "_model_module": "@jupyter-widgets/controls",
       "_model_module_version": "2.0.0",
       "_model_name": "FloatProgressModel",
       "_view_count": null,
       "_view_module": "@jupyter-widgets/controls",
       "_view_module_version": "2.0.0",
       "_view_name": "ProgressView",
       "bar_style": "success",
       "description": "",
       "description_allow_html": false,
       "layout": "IPY_MODEL_c555df3760984aa98ad4116152604ca6",
       "max": 267954768,
       "min": 0,
       "orientation": "horizontal",
       "style": "IPY_MODEL_1a15d9ba28ac494798de32f2552c6c53",
       "tabbable": null,
       "tooltip": null,
       "value": 267954768
      }
     },
     "11b699c2eb3b42359c16f69328d78bf3": {
      "model_module": "@jupyter-widgets/base",
      "model_module_version": "2.0.0",
      "model_name": "LayoutModel",
      "state": {
       "_model_module": "@jupyter-widgets/base",
       "_model_module_version": "2.0.0",
       "_model_name": "LayoutModel",
       "_view_count": null,
       "_view_module": "@jupyter-widgets/base",
       "_view_module_version": "2.0.0",
       "_view_name": "LayoutView",
       "align_content": null,
       "align_items": null,
       "align_self": null,
       "border_bottom": null,
       "border_left": null,
       "border_right": null,
       "border_top": null,
       "bottom": null,
       "display": null,
       "flex": null,
       "flex_flow": null,
       "grid_area": null,
       "grid_auto_columns": null,
       "grid_auto_flow": null,
       "grid_auto_rows": null,
       "grid_column": null,
       "grid_gap": null,
       "grid_row": null,
       "grid_template_areas": null,
       "grid_template_columns": null,
       "grid_template_rows": null,
       "height": null,
       "justify_content": null,
       "justify_items": null,
       "left": null,
       "margin": null,
       "max_height": null,
       "max_width": null,
       "min_height": null,
       "min_width": null,
       "object_fit": null,
       "object_position": null,
       "order": null,
       "overflow": null,
       "padding": null,
       "right": null,
       "top": null,
       "visibility": null,
       "width": null
      }
     },
     "13f8490cec004947939699a32605aa34": {
      "model_module": "@jupyter-widgets/controls",
      "model_module_version": "2.0.0",
      "model_name": "HTMLStyleModel",
      "state": {
       "_model_module": "@jupyter-widgets/controls",
       "_model_module_version": "2.0.0",
       "_model_name": "HTMLStyleModel",
       "_view_count": null,
       "_view_module": "@jupyter-widgets/base",
       "_view_module_version": "2.0.0",
       "_view_name": "StyleView",
       "background": null,
       "description_width": "",
       "font_size": null,
       "text_color": null
      }
     },
     "1400bdf0454b490680e78637070daf50": {
      "model_module": "@jupyter-widgets/controls",
      "model_module_version": "2.0.0",
      "model_name": "HTMLStyleModel",
      "state": {
       "_model_module": "@jupyter-widgets/controls",
       "_model_module_version": "2.0.0",
       "_model_name": "HTMLStyleModel",
       "_view_count": null,
       "_view_module": "@jupyter-widgets/base",
       "_view_module_version": "2.0.0",
       "_view_name": "StyleView",
       "background": null,
       "description_width": "",
       "font_size": null,
       "text_color": null
      }
     },
     "1a15d9ba28ac494798de32f2552c6c53": {
      "model_module": "@jupyter-widgets/controls",
      "model_module_version": "2.0.0",
      "model_name": "ProgressStyleModel",
      "state": {
       "_model_module": "@jupyter-widgets/controls",
       "_model_module_version": "2.0.0",
       "_model_name": "ProgressStyleModel",
       "_view_count": null,
       "_view_module": "@jupyter-widgets/base",
       "_view_module_version": "2.0.0",
       "_view_name": "StyleView",
       "bar_color": null,
       "description_width": ""
      }
     },
     "1cf09e7f47874214a24fb85163903594": {
      "model_module": "@jupyter-widgets/base",
      "model_module_version": "2.0.0",
      "model_name": "LayoutModel",
      "state": {
       "_model_module": "@jupyter-widgets/base",
       "_model_module_version": "2.0.0",
       "_model_name": "LayoutModel",
       "_view_count": null,
       "_view_module": "@jupyter-widgets/base",
       "_view_module_version": "2.0.0",
       "_view_name": "LayoutView",
       "align_content": null,
       "align_items": null,
       "align_self": null,
       "border_bottom": null,
       "border_left": null,
       "border_right": null,
       "border_top": null,
       "bottom": null,
       "display": null,
       "flex": null,
       "flex_flow": null,
       "grid_area": null,
       "grid_auto_columns": null,
       "grid_auto_flow": null,
       "grid_auto_rows": null,
       "grid_column": null,
       "grid_gap": null,
       "grid_row": null,
       "grid_template_areas": null,
       "grid_template_columns": null,
       "grid_template_rows": null,
       "height": null,
       "justify_content": null,
       "justify_items": null,
       "left": null,
       "margin": null,
       "max_height": null,
       "max_width": null,
       "min_height": null,
       "min_width": null,
       "object_fit": null,
       "object_position": null,
       "order": null,
       "overflow": null,
       "padding": null,
       "right": null,
       "top": null,
       "visibility": null,
       "width": null
      }
     },
     "2161043ccb124c528d084cddd487225a": {
      "model_module": "@jupyter-widgets/controls",
      "model_module_version": "2.0.0",
      "model_name": "HTMLModel",
      "state": {
       "_dom_classes": [],
       "_model_module": "@jupyter-widgets/controls",
       "_model_module_version": "2.0.0",
       "_model_name": "HTMLModel",
       "_view_count": null,
       "_view_module": "@jupyter-widgets/controls",
       "_view_module_version": "2.0.0",
       "_view_name": "HTMLView",
       "description": "",
       "description_allow_html": false,
       "layout": "IPY_MODEL_b49329b753114a659d70d8688a56ded8",
       "placeholder": "​",
       "style": "IPY_MODEL_280e8a038b8948f7a6fb3fbf33db100e",
       "tabbable": null,
       "tooltip": null,
       "value": " 466k/466k [00:00&lt;00:00, 8.35MB/s]"
      }
     },
     "21b379c2696940138fcfd004df26b309": {
      "model_module": "@jupyter-widgets/controls",
      "model_module_version": "2.0.0",
      "model_name": "HBoxModel",
      "state": {
       "_dom_classes": [],
       "_model_module": "@jupyter-widgets/controls",
       "_model_module_version": "2.0.0",
       "_model_name": "HBoxModel",
       "_view_count": null,
       "_view_module": "@jupyter-widgets/controls",
       "_view_module_version": "2.0.0",
       "_view_name": "HBoxView",
       "box_style": "",
       "children": [
        "IPY_MODEL_52877e22e0ef4d6e97a4570cb9f3a107",
        "IPY_MODEL_a5400db105c8497fa02fa7c98f054980",
        "IPY_MODEL_8b4bd1f8409846ae9e7cbd2bde3342e3"
       ],
       "layout": "IPY_MODEL_9e76a8d017c64bfd900a59c5bf938646",
       "tabbable": null,
       "tooltip": null
      }
     },
     "22295787bcf14528b82ffda1b82c249e": {
      "model_module": "@jupyter-widgets/controls",
      "model_module_version": "2.0.0",
      "model_name": "HTMLModel",
      "state": {
       "_dom_classes": [],
       "_model_module": "@jupyter-widgets/controls",
       "_model_module_version": "2.0.0",
       "_model_name": "HTMLModel",
       "_view_count": null,
       "_view_module": "@jupyter-widgets/controls",
       "_view_module_version": "2.0.0",
       "_view_name": "HTMLView",
       "description": "",
       "description_allow_html": false,
       "layout": "IPY_MODEL_11b699c2eb3b42359c16f69328d78bf3",
       "placeholder": "​",
       "style": "IPY_MODEL_cff76eeabdec43b7938acc76b4686f3a",
       "tabbable": null,
       "tooltip": null,
       "value": " 268M/268M [00:01&lt;00:00, 268MB/s]"
      }
     },
     "22d7cb47e3874065835a8ea2a69cb3c4": {
      "model_module": "@jupyter-widgets/controls",
      "model_module_version": "2.0.0",
      "model_name": "HTMLStyleModel",
      "state": {
       "_model_module": "@jupyter-widgets/controls",
       "_model_module_version": "2.0.0",
       "_model_name": "HTMLStyleModel",
       "_view_count": null,
       "_view_module": "@jupyter-widgets/base",
       "_view_module_version": "2.0.0",
       "_view_name": "StyleView",
       "background": null,
       "description_width": "",
       "font_size": null,
       "text_color": null
      }
     },
     "27a8a5e11d64478c9070a7054241be6b": {
      "model_module": "@jupyter-widgets/controls",
      "model_module_version": "2.0.0",
      "model_name": "HTMLStyleModel",
      "state": {
       "_model_module": "@jupyter-widgets/controls",
       "_model_module_version": "2.0.0",
       "_model_name": "HTMLStyleModel",
       "_view_count": null,
       "_view_module": "@jupyter-widgets/base",
       "_view_module_version": "2.0.0",
       "_view_name": "StyleView",
       "background": null,
       "description_width": "",
       "font_size": null,
       "text_color": null
      }
     },
     "27d9dd0c97194cbab3224ff81744328e": {
      "model_module": "@jupyter-widgets/controls",
      "model_module_version": "2.0.0",
      "model_name": "HBoxModel",
      "state": {
       "_dom_classes": [],
       "_model_module": "@jupyter-widgets/controls",
       "_model_module_version": "2.0.0",
       "_model_name": "HBoxModel",
       "_view_count": null,
       "_view_module": "@jupyter-widgets/controls",
       "_view_module_version": "2.0.0",
       "_view_name": "HBoxView",
       "box_style": "",
       "children": [
        "IPY_MODEL_bc6ab9d52a514fde8554162903be4133",
        "IPY_MODEL_709b7ce7ea4f40e5979220d55aafe0b3",
        "IPY_MODEL_2d769030dfb740bfa54694dd81eae9ff"
       ],
       "layout": "IPY_MODEL_b4c23b3d7bd9485b89933dd3f0bd27c8",
       "tabbable": null,
       "tooltip": null
      }
     },
     "280e8a038b8948f7a6fb3fbf33db100e": {
      "model_module": "@jupyter-widgets/controls",
      "model_module_version": "2.0.0",
      "model_name": "HTMLStyleModel",
      "state": {
       "_model_module": "@jupyter-widgets/controls",
       "_model_module_version": "2.0.0",
       "_model_name": "HTMLStyleModel",
       "_view_count": null,
       "_view_module": "@jupyter-widgets/base",
       "_view_module_version": "2.0.0",
       "_view_name": "StyleView",
       "background": null,
       "description_width": "",
       "font_size": null,
       "text_color": null
      }
     },
     "2abb15b9343345c7bd78a631f96b6171": {
      "model_module": "@jupyter-widgets/controls",
      "model_module_version": "2.0.0",
      "model_name": "HTMLModel",
      "state": {
       "_dom_classes": [],
       "_model_module": "@jupyter-widgets/controls",
       "_model_module_version": "2.0.0",
       "_model_name": "HTMLModel",
       "_view_count": null,
       "_view_module": "@jupyter-widgets/controls",
       "_view_module_version": "2.0.0",
       "_view_name": "HTMLView",
       "description": "",
       "description_allow_html": false,
       "layout": "IPY_MODEL_5acdb83aecf7464996c143c542cab771",
       "placeholder": "​",
       "style": "IPY_MODEL_60e6df4040364ebbaff4f0608a9474d5",
       "tabbable": null,
       "tooltip": null,
       "value": "tokenizer_config.json: 100%"
      }
     },
     "2d5f1221fa7a416aa58bda1da221bcd7": {
      "model_module": "@jupyter-widgets/base",
      "model_module_version": "2.0.0",
      "model_name": "LayoutModel",
      "state": {
       "_model_module": "@jupyter-widgets/base",
       "_model_module_version": "2.0.0",
       "_model_name": "LayoutModel",
       "_view_count": null,
       "_view_module": "@jupyter-widgets/base",
       "_view_module_version": "2.0.0",
       "_view_name": "LayoutView",
       "align_content": null,
       "align_items": null,
       "align_self": null,
       "border_bottom": null,
       "border_left": null,
       "border_right": null,
       "border_top": null,
       "bottom": null,
       "display": null,
       "flex": null,
       "flex_flow": null,
       "grid_area": null,
       "grid_auto_columns": null,
       "grid_auto_flow": null,
       "grid_auto_rows": null,
       "grid_column": null,
       "grid_gap": null,
       "grid_row": null,
       "grid_template_areas": null,
       "grid_template_columns": null,
       "grid_template_rows": null,
       "height": null,
       "justify_content": null,
       "justify_items": null,
       "left": null,
       "margin": null,
       "max_height": null,
       "max_width": null,
       "min_height": null,
       "min_width": null,
       "object_fit": null,
       "object_position": null,
       "order": null,
       "overflow": null,
       "padding": null,
       "right": null,
       "top": null,
       "visibility": null,
       "width": null
      }
     },
     "2d769030dfb740bfa54694dd81eae9ff": {
      "model_module": "@jupyter-widgets/controls",
      "model_module_version": "2.0.0",
      "model_name": "HTMLModel",
      "state": {
       "_dom_classes": [],
       "_model_module": "@jupyter-widgets/controls",
       "_model_module_version": "2.0.0",
       "_model_name": "HTMLModel",
       "_view_count": null,
       "_view_module": "@jupyter-widgets/controls",
       "_view_module_version": "2.0.0",
       "_view_name": "HTMLView",
       "description": "",
       "description_allow_html": false,
       "layout": "IPY_MODEL_30571060f8384758a80ce63cb75973a6",
       "placeholder": "​",
       "style": "IPY_MODEL_1400bdf0454b490680e78637070daf50",
       "tabbable": null,
       "tooltip": null,
       "value": " 232k/232k [00:00&lt;00:00, 6.61MB/s]"
      }
     },
     "30571060f8384758a80ce63cb75973a6": {
      "model_module": "@jupyter-widgets/base",
      "model_module_version": "2.0.0",
      "model_name": "LayoutModel",
      "state": {
       "_model_module": "@jupyter-widgets/base",
       "_model_module_version": "2.0.0",
       "_model_name": "LayoutModel",
       "_view_count": null,
       "_view_module": "@jupyter-widgets/base",
       "_view_module_version": "2.0.0",
       "_view_name": "LayoutView",
       "align_content": null,
       "align_items": null,
       "align_self": null,
       "border_bottom": null,
       "border_left": null,
       "border_right": null,
       "border_top": null,
       "bottom": null,
       "display": null,
       "flex": null,
       "flex_flow": null,
       "grid_area": null,
       "grid_auto_columns": null,
       "grid_auto_flow": null,
       "grid_auto_rows": null,
       "grid_column": null,
       "grid_gap": null,
       "grid_row": null,
       "grid_template_areas": null,
       "grid_template_columns": null,
       "grid_template_rows": null,
       "height": null,
       "justify_content": null,
       "justify_items": null,
       "left": null,
       "margin": null,
       "max_height": null,
       "max_width": null,
       "min_height": null,
       "min_width": null,
       "object_fit": null,
       "object_position": null,
       "order": null,
       "overflow": null,
       "padding": null,
       "right": null,
       "top": null,
       "visibility": null,
       "width": null
      }
     },
     "308732d87ef847cab46cb7bc4169b608": {
      "model_module": "@jupyter-widgets/base",
      "model_module_version": "2.0.0",
      "model_name": "LayoutModel",
      "state": {
       "_model_module": "@jupyter-widgets/base",
       "_model_module_version": "2.0.0",
       "_model_name": "LayoutModel",
       "_view_count": null,
       "_view_module": "@jupyter-widgets/base",
       "_view_module_version": "2.0.0",
       "_view_name": "LayoutView",
       "align_content": null,
       "align_items": null,
       "align_self": null,
       "border_bottom": null,
       "border_left": null,
       "border_right": null,
       "border_top": null,
       "bottom": null,
       "display": null,
       "flex": null,
       "flex_flow": null,
       "grid_area": null,
       "grid_auto_columns": null,
       "grid_auto_flow": null,
       "grid_auto_rows": null,
       "grid_column": null,
       "grid_gap": null,
       "grid_row": null,
       "grid_template_areas": null,
       "grid_template_columns": null,
       "grid_template_rows": null,
       "height": null,
       "justify_content": null,
       "justify_items": null,
       "left": null,
       "margin": null,
       "max_height": null,
       "max_width": null,
       "min_height": null,
       "min_width": null,
       "object_fit": null,
       "object_position": null,
       "order": null,
       "overflow": null,
       "padding": null,
       "right": null,
       "top": null,
       "visibility": null,
       "width": null
      }
     },
     "35e2f9f8cda245a6a64c369a51e26338": {
      "model_module": "@jupyter-widgets/controls",
      "model_module_version": "2.0.0",
      "model_name": "HTMLModel",
      "state": {
       "_dom_classes": [],
       "_model_module": "@jupyter-widgets/controls",
       "_model_module_version": "2.0.0",
       "_model_name": "HTMLModel",
       "_view_count": null,
       "_view_module": "@jupyter-widgets/controls",
       "_view_module_version": "2.0.0",
       "_view_name": "HTMLView",
       "description": "",
       "description_allow_html": false,
       "layout": "IPY_MODEL_2d5f1221fa7a416aa58bda1da221bcd7",
       "placeholder": "​",
       "style": "IPY_MODEL_7bdc37ff5d094b9d9581b4af2adf1043",
       "tabbable": null,
       "tooltip": null,
       "value": "config.json: 100%"
      }
     },
     "3e12498632f5435a900e755a7afefe8f": {
      "model_module": "@jupyter-widgets/base",
      "model_module_version": "2.0.0",
      "model_name": "LayoutModel",
      "state": {
       "_model_module": "@jupyter-widgets/base",
       "_model_module_version": "2.0.0",
       "_model_name": "LayoutModel",
       "_view_count": null,
       "_view_module": "@jupyter-widgets/base",
       "_view_module_version": "2.0.0",
       "_view_name": "LayoutView",
       "align_content": null,
       "align_items": null,
       "align_self": null,
       "border_bottom": null,
       "border_left": null,
       "border_right": null,
       "border_top": null,
       "bottom": null,
       "display": null,
       "flex": null,
       "flex_flow": null,
       "grid_area": null,
       "grid_auto_columns": null,
       "grid_auto_flow": null,
       "grid_auto_rows": null,
       "grid_column": null,
       "grid_gap": null,
       "grid_row": null,
       "grid_template_areas": null,
       "grid_template_columns": null,
       "grid_template_rows": null,
       "height": null,
       "justify_content": null,
       "justify_items": null,
       "left": null,
       "margin": null,
       "max_height": null,
       "max_width": null,
       "min_height": null,
       "min_width": null,
       "object_fit": null,
       "object_position": null,
       "order": null,
       "overflow": null,
       "padding": null,
       "right": null,
       "top": null,
       "visibility": null,
       "width": null
      }
     },
     "41f586bf9f9e477eb15a6deafe1e43d2": {
      "model_module": "@jupyter-widgets/controls",
      "model_module_version": "2.0.0",
      "model_name": "HTMLStyleModel",
      "state": {
       "_model_module": "@jupyter-widgets/controls",
       "_model_module_version": "2.0.0",
       "_model_name": "HTMLStyleModel",
       "_view_count": null,
       "_view_module": "@jupyter-widgets/base",
       "_view_module_version": "2.0.0",
       "_view_name": "StyleView",
       "background": null,
       "description_width": "",
       "font_size": null,
       "text_color": null
      }
     },
     "42f72d0899db4b1fa8b583314ccc3b94": {
      "model_module": "@jupyter-widgets/controls",
      "model_module_version": "2.0.0",
      "model_name": "HTMLStyleModel",
      "state": {
       "_model_module": "@jupyter-widgets/controls",
       "_model_module_version": "2.0.0",
       "_model_name": "HTMLStyleModel",
       "_view_count": null,
       "_view_module": "@jupyter-widgets/base",
       "_view_module_version": "2.0.0",
       "_view_name": "StyleView",
       "background": null,
       "description_width": "",
       "font_size": null,
       "text_color": null
      }
     },
     "475bf06c8fd4456085e5d5d4f8ddd599": {
      "model_module": "@jupyter-widgets/base",
      "model_module_version": "2.0.0",
      "model_name": "LayoutModel",
      "state": {
       "_model_module": "@jupyter-widgets/base",
       "_model_module_version": "2.0.0",
       "_model_name": "LayoutModel",
       "_view_count": null,
       "_view_module": "@jupyter-widgets/base",
       "_view_module_version": "2.0.0",
       "_view_name": "LayoutView",
       "align_content": null,
       "align_items": null,
       "align_self": null,
       "border_bottom": null,
       "border_left": null,
       "border_right": null,
       "border_top": null,
       "bottom": null,
       "display": null,
       "flex": null,
       "flex_flow": null,
       "grid_area": null,
       "grid_auto_columns": null,
       "grid_auto_flow": null,
       "grid_auto_rows": null,
       "grid_column": null,
       "grid_gap": null,
       "grid_row": null,
       "grid_template_areas": null,
       "grid_template_columns": null,
       "grid_template_rows": null,
       "height": null,
       "justify_content": null,
       "justify_items": null,
       "left": null,
       "margin": null,
       "max_height": null,
       "max_width": null,
       "min_height": null,
       "min_width": null,
       "object_fit": null,
       "object_position": null,
       "order": null,
       "overflow": null,
       "padding": null,
       "right": null,
       "top": null,
       "visibility": null,
       "width": null
      }
     },
     "4c32d8f8ba154ab89a5e53d718d1d939": {
      "model_module": "@jupyter-widgets/controls",
      "model_module_version": "2.0.0",
      "model_name": "HTMLModel",
      "state": {
       "_dom_classes": [],
       "_model_module": "@jupyter-widgets/controls",
       "_model_module_version": "2.0.0",
       "_model_name": "HTMLModel",
       "_view_count": null,
       "_view_module": "@jupyter-widgets/controls",
       "_view_module_version": "2.0.0",
       "_view_name": "HTMLView",
       "description": "",
       "description_allow_html": false,
       "layout": "IPY_MODEL_cd48a3093c3144548e15751a94c952e2",
       "placeholder": "​",
       "style": "IPY_MODEL_27a8a5e11d64478c9070a7054241be6b",
       "tabbable": null,
       "tooltip": null,
       "value": "model.safetensors: 100%"
      }
     },
     "508952d7f2b94ab8b7e26bcf609f8071": {
      "model_module": "@jupyter-widgets/controls",
      "model_module_version": "2.0.0",
      "model_name": "FloatProgressModel",
      "state": {
       "_dom_classes": [],
       "_model_module": "@jupyter-widgets/controls",
       "_model_module_version": "2.0.0",
       "_model_name": "FloatProgressModel",
       "_view_count": null,
       "_view_module": "@jupyter-widgets/controls",
       "_view_module_version": "2.0.0",
       "_view_name": "ProgressView",
       "bar_style": "success",
       "description": "",
       "description_allow_html": false,
       "layout": "IPY_MODEL_a3ea40c5f30f4353970a2a03d08252d1",
       "max": 483,
       "min": 0,
       "orientation": "horizontal",
       "style": "IPY_MODEL_978fbc17fe6a408f8ce6cdeeb5dcae68",
       "tabbable": null,
       "tooltip": null,
       "value": 483
      }
     },
     "52877e22e0ef4d6e97a4570cb9f3a107": {
      "model_module": "@jupyter-widgets/controls",
      "model_module_version": "2.0.0",
      "model_name": "HTMLModel",
      "state": {
       "_dom_classes": [],
       "_model_module": "@jupyter-widgets/controls",
       "_model_module_version": "2.0.0",
       "_model_name": "HTMLModel",
       "_view_count": null,
       "_view_module": "@jupyter-widgets/controls",
       "_view_module_version": "2.0.0",
       "_view_name": "HTMLView",
       "description": "",
       "description_allow_html": false,
       "layout": "IPY_MODEL_0cbdf492338c4a86b19de0bba80472e9",
       "placeholder": "​",
       "style": "IPY_MODEL_41f586bf9f9e477eb15a6deafe1e43d2",
       "tabbable": null,
       "tooltip": null,
       "value": "Map: 100%"
      }
     },
     "59b64618ae3e420499fb57174626c061": {
      "model_module": "@jupyter-widgets/base",
      "model_module_version": "2.0.0",
      "model_name": "LayoutModel",
      "state": {
       "_model_module": "@jupyter-widgets/base",
       "_model_module_version": "2.0.0",
       "_model_name": "LayoutModel",
       "_view_count": null,
       "_view_module": "@jupyter-widgets/base",
       "_view_module_version": "2.0.0",
       "_view_name": "LayoutView",
       "align_content": null,
       "align_items": null,
       "align_self": null,
       "border_bottom": null,
       "border_left": null,
       "border_right": null,
       "border_top": null,
       "bottom": null,
       "display": null,
       "flex": null,
       "flex_flow": null,
       "grid_area": null,
       "grid_auto_columns": null,
       "grid_auto_flow": null,
       "grid_auto_rows": null,
       "grid_column": null,
       "grid_gap": null,
       "grid_row": null,
       "grid_template_areas": null,
       "grid_template_columns": null,
       "grid_template_rows": null,
       "height": null,
       "justify_content": null,
       "justify_items": null,
       "left": null,
       "margin": null,
       "max_height": null,
       "max_width": null,
       "min_height": null,
       "min_width": null,
       "object_fit": null,
       "object_position": null,
       "order": null,
       "overflow": null,
       "padding": null,
       "right": null,
       "top": null,
       "visibility": null,
       "width": null
      }
     },
     "5acdb83aecf7464996c143c542cab771": {
      "model_module": "@jupyter-widgets/base",
      "model_module_version": "2.0.0",
      "model_name": "LayoutModel",
      "state": {
       "_model_module": "@jupyter-widgets/base",
       "_model_module_version": "2.0.0",
       "_model_name": "LayoutModel",
       "_view_count": null,
       "_view_module": "@jupyter-widgets/base",
       "_view_module_version": "2.0.0",
       "_view_name": "LayoutView",
       "align_content": null,
       "align_items": null,
       "align_self": null,
       "border_bottom": null,
       "border_left": null,
       "border_right": null,
       "border_top": null,
       "bottom": null,
       "display": null,
       "flex": null,
       "flex_flow": null,
       "grid_area": null,
       "grid_auto_columns": null,
       "grid_auto_flow": null,
       "grid_auto_rows": null,
       "grid_column": null,
       "grid_gap": null,
       "grid_row": null,
       "grid_template_areas": null,
       "grid_template_columns": null,
       "grid_template_rows": null,
       "height": null,
       "justify_content": null,
       "justify_items": null,
       "left": null,
       "margin": null,
       "max_height": null,
       "max_width": null,
       "min_height": null,
       "min_width": null,
       "object_fit": null,
       "object_position": null,
       "order": null,
       "overflow": null,
       "padding": null,
       "right": null,
       "top": null,
       "visibility": null,
       "width": null
      }
     },
     "5b2a5d3795e34c208d6fe622fa37e6a2": {
      "model_module": "@jupyter-widgets/controls",
      "model_module_version": "2.0.0",
      "model_name": "HBoxModel",
      "state": {
       "_dom_classes": [],
       "_model_module": "@jupyter-widgets/controls",
       "_model_module_version": "2.0.0",
       "_model_name": "HBoxModel",
       "_view_count": null,
       "_view_module": "@jupyter-widgets/controls",
       "_view_module_version": "2.0.0",
       "_view_name": "HBoxView",
       "box_style": "",
       "children": [
        "IPY_MODEL_e9edc97479044c3986d4791a7690c907",
        "IPY_MODEL_5d2642d31cbd4dd4b73369e69138700e",
        "IPY_MODEL_2161043ccb124c528d084cddd487225a"
       ],
       "layout": "IPY_MODEL_791efc2addb34afab55e84e8567a9a60",
       "tabbable": null,
       "tooltip": null
      }
     },
     "5d2642d31cbd4dd4b73369e69138700e": {
      "model_module": "@jupyter-widgets/controls",
      "model_module_version": "2.0.0",
      "model_name": "FloatProgressModel",
      "state": {
       "_dom_classes": [],
       "_model_module": "@jupyter-widgets/controls",
       "_model_module_version": "2.0.0",
       "_model_name": "FloatProgressModel",
       "_view_count": null,
       "_view_module": "@jupyter-widgets/controls",
       "_view_module_version": "2.0.0",
       "_view_name": "ProgressView",
       "bar_style": "success",
       "description": "",
       "description_allow_html": false,
       "layout": "IPY_MODEL_b375afa86933453e94d433b8a023974b",
       "max": 466062,
       "min": 0,
       "orientation": "horizontal",
       "style": "IPY_MODEL_e91b85f329764336ab26de2c8eb04cb5",
       "tabbable": null,
       "tooltip": null,
       "value": 466062
      }
     },
     "60e6df4040364ebbaff4f0608a9474d5": {
      "model_module": "@jupyter-widgets/controls",
      "model_module_version": "2.0.0",
      "model_name": "HTMLStyleModel",
      "state": {
       "_model_module": "@jupyter-widgets/controls",
       "_model_module_version": "2.0.0",
       "_model_name": "HTMLStyleModel",
       "_view_count": null,
       "_view_module": "@jupyter-widgets/base",
       "_view_module_version": "2.0.0",
       "_view_name": "StyleView",
       "background": null,
       "description_width": "",
       "font_size": null,
       "text_color": null
      }
     },
     "6efd29f6fa8e4620865951ffe096fc5d": {
      "model_module": "@jupyter-widgets/base",
      "model_module_version": "2.0.0",
      "model_name": "LayoutModel",
      "state": {
       "_model_module": "@jupyter-widgets/base",
       "_model_module_version": "2.0.0",
       "_model_name": "LayoutModel",
       "_view_count": null,
       "_view_module": "@jupyter-widgets/base",
       "_view_module_version": "2.0.0",
       "_view_name": "LayoutView",
       "align_content": null,
       "align_items": null,
       "align_self": null,
       "border_bottom": null,
       "border_left": null,
       "border_right": null,
       "border_top": null,
       "bottom": null,
       "display": null,
       "flex": null,
       "flex_flow": null,
       "grid_area": null,
       "grid_auto_columns": null,
       "grid_auto_flow": null,
       "grid_auto_rows": null,
       "grid_column": null,
       "grid_gap": null,
       "grid_row": null,
       "grid_template_areas": null,
       "grid_template_columns": null,
       "grid_template_rows": null,
       "height": null,
       "justify_content": null,
       "justify_items": null,
       "left": null,
       "margin": null,
       "max_height": null,
       "max_width": null,
       "min_height": null,
       "min_width": null,
       "object_fit": null,
       "object_position": null,
       "order": null,
       "overflow": null,
       "padding": null,
       "right": null,
       "top": null,
       "visibility": null,
       "width": null
      }
     },
     "709b7ce7ea4f40e5979220d55aafe0b3": {
      "model_module": "@jupyter-widgets/controls",
      "model_module_version": "2.0.0",
      "model_name": "FloatProgressModel",
      "state": {
       "_dom_classes": [],
       "_model_module": "@jupyter-widgets/controls",
       "_model_module_version": "2.0.0",
       "_model_name": "FloatProgressModel",
       "_view_count": null,
       "_view_module": "@jupyter-widgets/controls",
       "_view_module_version": "2.0.0",
       "_view_name": "ProgressView",
       "bar_style": "success",
       "description": "",
       "description_allow_html": false,
       "layout": "IPY_MODEL_cfae780314dd4a96b356c168f4e73b10",
       "max": 231508,
       "min": 0,
       "orientation": "horizontal",
       "style": "IPY_MODEL_96633ff0692b47618e5f8656577b9e18",
       "tabbable": null,
       "tooltip": null,
       "value": 231508
      }
     },
     "73f0cf70b18a49d5a853564f85885037": {
      "model_module": "@jupyter-widgets/controls",
      "model_module_version": "2.0.0",
      "model_name": "HTMLModel",
      "state": {
       "_dom_classes": [],
       "_model_module": "@jupyter-widgets/controls",
       "_model_module_version": "2.0.0",
       "_model_name": "HTMLModel",
       "_view_count": null,
       "_view_module": "@jupyter-widgets/controls",
       "_view_module_version": "2.0.0",
       "_view_name": "HTMLView",
       "description": "",
       "description_allow_html": false,
       "layout": "IPY_MODEL_91d114cc5d754a2388af5369e018ec70",
       "placeholder": "​",
       "style": "IPY_MODEL_13f8490cec004947939699a32605aa34",
       "tabbable": null,
       "tooltip": null,
       "value": " 65699/65699 [01:09&lt;00:00, 1061.18 examples/s]"
      }
     },
     "791efc2addb34afab55e84e8567a9a60": {
      "model_module": "@jupyter-widgets/base",
      "model_module_version": "2.0.0",
      "model_name": "LayoutModel",
      "state": {
       "_model_module": "@jupyter-widgets/base",
       "_model_module_version": "2.0.0",
       "_model_name": "LayoutModel",
       "_view_count": null,
       "_view_module": "@jupyter-widgets/base",
       "_view_module_version": "2.0.0",
       "_view_name": "LayoutView",
       "align_content": null,
       "align_items": null,
       "align_self": null,
       "border_bottom": null,
       "border_left": null,
       "border_right": null,
       "border_top": null,
       "bottom": null,
       "display": null,
       "flex": null,
       "flex_flow": null,
       "grid_area": null,
       "grid_auto_columns": null,
       "grid_auto_flow": null,
       "grid_auto_rows": null,
       "grid_column": null,
       "grid_gap": null,
       "grid_row": null,
       "grid_template_areas": null,
       "grid_template_columns": null,
       "grid_template_rows": null,
       "height": null,
       "justify_content": null,
       "justify_items": null,
       "left": null,
       "margin": null,
       "max_height": null,
       "max_width": null,
       "min_height": null,
       "min_width": null,
       "object_fit": null,
       "object_position": null,
       "order": null,
       "overflow": null,
       "padding": null,
       "right": null,
       "top": null,
       "visibility": null,
       "width": null
      }
     },
     "7bdc37ff5d094b9d9581b4af2adf1043": {
      "model_module": "@jupyter-widgets/controls",
      "model_module_version": "2.0.0",
      "model_name": "HTMLStyleModel",
      "state": {
       "_model_module": "@jupyter-widgets/controls",
       "_model_module_version": "2.0.0",
       "_model_name": "HTMLStyleModel",
       "_view_count": null,
       "_view_module": "@jupyter-widgets/base",
       "_view_module_version": "2.0.0",
       "_view_name": "StyleView",
       "background": null,
       "description_width": "",
       "font_size": null,
       "text_color": null
      }
     },
     "7f2249797fd143b1a7772dbe0c496d47": {
      "model_module": "@jupyter-widgets/controls",
      "model_module_version": "2.0.0",
      "model_name": "HTMLModel",
      "state": {
       "_dom_classes": [],
       "_model_module": "@jupyter-widgets/controls",
       "_model_module_version": "2.0.0",
       "_model_name": "HTMLModel",
       "_view_count": null,
       "_view_module": "@jupyter-widgets/controls",
       "_view_module_version": "2.0.0",
       "_view_name": "HTMLView",
       "description": "",
       "description_allow_html": false,
       "layout": "IPY_MODEL_1cf09e7f47874214a24fb85163903594",
       "placeholder": "​",
       "style": "IPY_MODEL_814bd463352d4d5aa80824af391982ce",
       "tabbable": null,
       "tooltip": null,
       "value": "Map: 100%"
      }
     },
     "7ffdbddf92b94290bed0a92f732a63dd": {
      "model_module": "@jupyter-widgets/controls",
      "model_module_version": "2.0.0",
      "model_name": "HTMLStyleModel",
      "state": {
       "_model_module": "@jupyter-widgets/controls",
       "_model_module_version": "2.0.0",
       "_model_name": "HTMLStyleModel",
       "_view_count": null,
       "_view_module": "@jupyter-widgets/base",
       "_view_module_version": "2.0.0",
       "_view_name": "StyleView",
       "background": null,
       "description_width": "",
       "font_size": null,
       "text_color": null
      }
     },
     "814bd463352d4d5aa80824af391982ce": {
      "model_module": "@jupyter-widgets/controls",
      "model_module_version": "2.0.0",
      "model_name": "HTMLStyleModel",
      "state": {
       "_model_module": "@jupyter-widgets/controls",
       "_model_module_version": "2.0.0",
       "_model_name": "HTMLStyleModel",
       "_view_count": null,
       "_view_module": "@jupyter-widgets/base",
       "_view_module_version": "2.0.0",
       "_view_name": "StyleView",
       "background": null,
       "description_width": "",
       "font_size": null,
       "text_color": null
      }
     },
     "841d1cb55d4c41fd993aa22eb4709594": {
      "model_module": "@jupyter-widgets/controls",
      "model_module_version": "2.0.0",
      "model_name": "HBoxModel",
      "state": {
       "_dom_classes": [],
       "_model_module": "@jupyter-widgets/controls",
       "_model_module_version": "2.0.0",
       "_model_name": "HBoxModel",
       "_view_count": null,
       "_view_module": "@jupyter-widgets/controls",
       "_view_module_version": "2.0.0",
       "_view_name": "HBoxView",
       "box_style": "",
       "children": [
        "IPY_MODEL_4c32d8f8ba154ab89a5e53d718d1d939",
        "IPY_MODEL_0dd76e149bc24ebaac34d802afb4abc0",
        "IPY_MODEL_22295787bcf14528b82ffda1b82c249e"
       ],
       "layout": "IPY_MODEL_dcffb69bc2534581a413fba7c3586467",
       "tabbable": null,
       "tooltip": null
      }
     },
     "8b4bd1f8409846ae9e7cbd2bde3342e3": {
      "model_module": "@jupyter-widgets/controls",
      "model_module_version": "2.0.0",
      "model_name": "HTMLModel",
      "state": {
       "_dom_classes": [],
       "_model_module": "@jupyter-widgets/controls",
       "_model_module_version": "2.0.0",
       "_model_name": "HTMLModel",
       "_view_count": null,
       "_view_module": "@jupyter-widgets/controls",
       "_view_module_version": "2.0.0",
       "_view_name": "HTMLView",
       "description": "",
       "description_allow_html": false,
       "layout": "IPY_MODEL_ff9b07caf73f492fa742f9a42da6e02b",
       "placeholder": "​",
       "style": "IPY_MODEL_a21d2b7443e24ef5a928cfb9468fcfa7",
       "tabbable": null,
       "tooltip": null,
       "value": " 21900/21900 [00:22&lt;00:00, 1104.94 examples/s]"
      }
     },
     "91d114cc5d754a2388af5369e018ec70": {
      "model_module": "@jupyter-widgets/base",
      "model_module_version": "2.0.0",
      "model_name": "LayoutModel",
      "state": {
       "_model_module": "@jupyter-widgets/base",
       "_model_module_version": "2.0.0",
       "_model_name": "LayoutModel",
       "_view_count": null,
       "_view_module": "@jupyter-widgets/base",
       "_view_module_version": "2.0.0",
       "_view_name": "LayoutView",
       "align_content": null,
       "align_items": null,
       "align_self": null,
       "border_bottom": null,
       "border_left": null,
       "border_right": null,
       "border_top": null,
       "bottom": null,
       "display": null,
       "flex": null,
       "flex_flow": null,
       "grid_area": null,
       "grid_auto_columns": null,
       "grid_auto_flow": null,
       "grid_auto_rows": null,
       "grid_column": null,
       "grid_gap": null,
       "grid_row": null,
       "grid_template_areas": null,
       "grid_template_columns": null,
       "grid_template_rows": null,
       "height": null,
       "justify_content": null,
       "justify_items": null,
       "left": null,
       "margin": null,
       "max_height": null,
       "max_width": null,
       "min_height": null,
       "min_width": null,
       "object_fit": null,
       "object_position": null,
       "order": null,
       "overflow": null,
       "padding": null,
       "right": null,
       "top": null,
       "visibility": null,
       "width": null
      }
     },
     "96633ff0692b47618e5f8656577b9e18": {
      "model_module": "@jupyter-widgets/controls",
      "model_module_version": "2.0.0",
      "model_name": "ProgressStyleModel",
      "state": {
       "_model_module": "@jupyter-widgets/controls",
       "_model_module_version": "2.0.0",
       "_model_name": "ProgressStyleModel",
       "_view_count": null,
       "_view_module": "@jupyter-widgets/base",
       "_view_module_version": "2.0.0",
       "_view_name": "StyleView",
       "bar_color": null,
       "description_width": ""
      }
     },
     "978fbc17fe6a408f8ce6cdeeb5dcae68": {
      "model_module": "@jupyter-widgets/controls",
      "model_module_version": "2.0.0",
      "model_name": "ProgressStyleModel",
      "state": {
       "_model_module": "@jupyter-widgets/controls",
       "_model_module_version": "2.0.0",
       "_model_name": "ProgressStyleModel",
       "_view_count": null,
       "_view_module": "@jupyter-widgets/base",
       "_view_module_version": "2.0.0",
       "_view_name": "StyleView",
       "bar_color": null,
       "description_width": ""
      }
     },
     "9cbe21db3ad541ad8e3ebb419fbad66c": {
      "model_module": "@jupyter-widgets/controls",
      "model_module_version": "2.0.0",
      "model_name": "HTMLModel",
      "state": {
       "_dom_classes": [],
       "_model_module": "@jupyter-widgets/controls",
       "_model_module_version": "2.0.0",
       "_model_name": "HTMLModel",
       "_view_count": null,
       "_view_module": "@jupyter-widgets/controls",
       "_view_module_version": "2.0.0",
       "_view_name": "HTMLView",
       "description": "",
       "description_allow_html": false,
       "layout": "IPY_MODEL_ebbb6dc1e5a84899a9301b2653a22b6d",
       "placeholder": "​",
       "style": "IPY_MODEL_22d7cb47e3874065835a8ea2a69cb3c4",
       "tabbable": null,
       "tooltip": null,
       "value": " 483/483 [00:00&lt;00:00, 64.6kB/s]"
      }
     },
     "9e76a8d017c64bfd900a59c5bf938646": {
      "model_module": "@jupyter-widgets/base",
      "model_module_version": "2.0.0",
      "model_name": "LayoutModel",
      "state": {
       "_model_module": "@jupyter-widgets/base",
       "_model_module_version": "2.0.0",
       "_model_name": "LayoutModel",
       "_view_count": null,
       "_view_module": "@jupyter-widgets/base",
       "_view_module_version": "2.0.0",
       "_view_name": "LayoutView",
       "align_content": null,
       "align_items": null,
       "align_self": null,
       "border_bottom": null,
       "border_left": null,
       "border_right": null,
       "border_top": null,
       "bottom": null,
       "display": null,
       "flex": null,
       "flex_flow": null,
       "grid_area": null,
       "grid_auto_columns": null,
       "grid_auto_flow": null,
       "grid_auto_rows": null,
       "grid_column": null,
       "grid_gap": null,
       "grid_row": null,
       "grid_template_areas": null,
       "grid_template_columns": null,
       "grid_template_rows": null,
       "height": null,
       "justify_content": null,
       "justify_items": null,
       "left": null,
       "margin": null,
       "max_height": null,
       "max_width": null,
       "min_height": null,
       "min_width": null,
       "object_fit": null,
       "object_position": null,
       "order": null,
       "overflow": null,
       "padding": null,
       "right": null,
       "top": null,
       "visibility": null,
       "width": null
      }
     },
     "9f051484ba384849a844207206b18d74": {
      "model_module": "@jupyter-widgets/controls",
      "model_module_version": "2.0.0",
      "model_name": "HBoxModel",
      "state": {
       "_dom_classes": [],
       "_model_module": "@jupyter-widgets/controls",
       "_model_module_version": "2.0.0",
       "_model_name": "HBoxModel",
       "_view_count": null,
       "_view_module": "@jupyter-widgets/controls",
       "_view_module_version": "2.0.0",
       "_view_name": "HBoxView",
       "box_style": "",
       "children": [
        "IPY_MODEL_35e2f9f8cda245a6a64c369a51e26338",
        "IPY_MODEL_508952d7f2b94ab8b7e26bcf609f8071",
        "IPY_MODEL_9cbe21db3ad541ad8e3ebb419fbad66c"
       ],
       "layout": "IPY_MODEL_308732d87ef847cab46cb7bc4169b608",
       "tabbable": null,
       "tooltip": null
      }
     },
     "a21d2b7443e24ef5a928cfb9468fcfa7": {
      "model_module": "@jupyter-widgets/controls",
      "model_module_version": "2.0.0",
      "model_name": "HTMLStyleModel",
      "state": {
       "_model_module": "@jupyter-widgets/controls",
       "_model_module_version": "2.0.0",
       "_model_name": "HTMLStyleModel",
       "_view_count": null,
       "_view_module": "@jupyter-widgets/base",
       "_view_module_version": "2.0.0",
       "_view_name": "StyleView",
       "background": null,
       "description_width": "",
       "font_size": null,
       "text_color": null
      }
     },
     "a224651154174203ad62a98bef5beece": {
      "model_module": "@jupyter-widgets/controls",
      "model_module_version": "2.0.0",
      "model_name": "HBoxModel",
      "state": {
       "_dom_classes": [],
       "_model_module": "@jupyter-widgets/controls",
       "_model_module_version": "2.0.0",
       "_model_name": "HBoxModel",
       "_view_count": null,
       "_view_module": "@jupyter-widgets/controls",
       "_view_module_version": "2.0.0",
       "_view_name": "HBoxView",
       "box_style": "",
       "children": [
        "IPY_MODEL_2abb15b9343345c7bd78a631f96b6171",
        "IPY_MODEL_e4942702297c4a1a9f969f9ef6131942",
        "IPY_MODEL_ba267dae2bca4704884dc63a98aec9a2"
       ],
       "layout": "IPY_MODEL_59b64618ae3e420499fb57174626c061",
       "tabbable": null,
       "tooltip": null
      }
     },
     "a3ea40c5f30f4353970a2a03d08252d1": {
      "model_module": "@jupyter-widgets/base",
      "model_module_version": "2.0.0",
      "model_name": "LayoutModel",
      "state": {
       "_model_module": "@jupyter-widgets/base",
       "_model_module_version": "2.0.0",
       "_model_name": "LayoutModel",
       "_view_count": null,
       "_view_module": "@jupyter-widgets/base",
       "_view_module_version": "2.0.0",
       "_view_name": "LayoutView",
       "align_content": null,
       "align_items": null,
       "align_self": null,
       "border_bottom": null,
       "border_left": null,
       "border_right": null,
       "border_top": null,
       "bottom": null,
       "display": null,
       "flex": null,
       "flex_flow": null,
       "grid_area": null,
       "grid_auto_columns": null,
       "grid_auto_flow": null,
       "grid_auto_rows": null,
       "grid_column": null,
       "grid_gap": null,
       "grid_row": null,
       "grid_template_areas": null,
       "grid_template_columns": null,
       "grid_template_rows": null,
       "height": null,
       "justify_content": null,
       "justify_items": null,
       "left": null,
       "margin": null,
       "max_height": null,
       "max_width": null,
       "min_height": null,
       "min_width": null,
       "object_fit": null,
       "object_position": null,
       "order": null,
       "overflow": null,
       "padding": null,
       "right": null,
       "top": null,
       "visibility": null,
       "width": null
      }
     },
     "a5400db105c8497fa02fa7c98f054980": {
      "model_module": "@jupyter-widgets/controls",
      "model_module_version": "2.0.0",
      "model_name": "FloatProgressModel",
      "state": {
       "_dom_classes": [],
       "_model_module": "@jupyter-widgets/controls",
       "_model_module_version": "2.0.0",
       "_model_name": "FloatProgressModel",
       "_view_count": null,
       "_view_module": "@jupyter-widgets/controls",
       "_view_module_version": "2.0.0",
       "_view_name": "ProgressView",
       "bar_style": "success",
       "description": "",
       "description_allow_html": false,
       "layout": "IPY_MODEL_d6b0b63830f143a29534da2ba13a0ff9",
       "max": 21900,
       "min": 0,
       "orientation": "horizontal",
       "style": "IPY_MODEL_c1431893472e4212ba0bdbda29cebb7c",
       "tabbable": null,
       "tooltip": null,
       "value": 21900
      }
     },
     "b375afa86933453e94d433b8a023974b": {
      "model_module": "@jupyter-widgets/base",
      "model_module_version": "2.0.0",
      "model_name": "LayoutModel",
      "state": {
       "_model_module": "@jupyter-widgets/base",
       "_model_module_version": "2.0.0",
       "_model_name": "LayoutModel",
       "_view_count": null,
       "_view_module": "@jupyter-widgets/base",
       "_view_module_version": "2.0.0",
       "_view_name": "LayoutView",
       "align_content": null,
       "align_items": null,
       "align_self": null,
       "border_bottom": null,
       "border_left": null,
       "border_right": null,
       "border_top": null,
       "bottom": null,
       "display": null,
       "flex": null,
       "flex_flow": null,
       "grid_area": null,
       "grid_auto_columns": null,
       "grid_auto_flow": null,
       "grid_auto_rows": null,
       "grid_column": null,
       "grid_gap": null,
       "grid_row": null,
       "grid_template_areas": null,
       "grid_template_columns": null,
       "grid_template_rows": null,
       "height": null,
       "justify_content": null,
       "justify_items": null,
       "left": null,
       "margin": null,
       "max_height": null,
       "max_width": null,
       "min_height": null,
       "min_width": null,
       "object_fit": null,
       "object_position": null,
       "order": null,
       "overflow": null,
       "padding": null,
       "right": null,
       "top": null,
       "visibility": null,
       "width": null
      }
     },
     "b49329b753114a659d70d8688a56ded8": {
      "model_module": "@jupyter-widgets/base",
      "model_module_version": "2.0.0",
      "model_name": "LayoutModel",
      "state": {
       "_model_module": "@jupyter-widgets/base",
       "_model_module_version": "2.0.0",
       "_model_name": "LayoutModel",
       "_view_count": null,
       "_view_module": "@jupyter-widgets/base",
       "_view_module_version": "2.0.0",
       "_view_name": "LayoutView",
       "align_content": null,
       "align_items": null,
       "align_self": null,
       "border_bottom": null,
       "border_left": null,
       "border_right": null,
       "border_top": null,
       "bottom": null,
       "display": null,
       "flex": null,
       "flex_flow": null,
       "grid_area": null,
       "grid_auto_columns": null,
       "grid_auto_flow": null,
       "grid_auto_rows": null,
       "grid_column": null,
       "grid_gap": null,
       "grid_row": null,
       "grid_template_areas": null,
       "grid_template_columns": null,
       "grid_template_rows": null,
       "height": null,
       "justify_content": null,
       "justify_items": null,
       "left": null,
       "margin": null,
       "max_height": null,
       "max_width": null,
       "min_height": null,
       "min_width": null,
       "object_fit": null,
       "object_position": null,
       "order": null,
       "overflow": null,
       "padding": null,
       "right": null,
       "top": null,
       "visibility": null,
       "width": null
      }
     },
     "b4c23b3d7bd9485b89933dd3f0bd27c8": {
      "model_module": "@jupyter-widgets/base",
      "model_module_version": "2.0.0",
      "model_name": "LayoutModel",
      "state": {
       "_model_module": "@jupyter-widgets/base",
       "_model_module_version": "2.0.0",
       "_model_name": "LayoutModel",
       "_view_count": null,
       "_view_module": "@jupyter-widgets/base",
       "_view_module_version": "2.0.0",
       "_view_name": "LayoutView",
       "align_content": null,
       "align_items": null,
       "align_self": null,
       "border_bottom": null,
       "border_left": null,
       "border_right": null,
       "border_top": null,
       "bottom": null,
       "display": null,
       "flex": null,
       "flex_flow": null,
       "grid_area": null,
       "grid_auto_columns": null,
       "grid_auto_flow": null,
       "grid_auto_rows": null,
       "grid_column": null,
       "grid_gap": null,
       "grid_row": null,
       "grid_template_areas": null,
       "grid_template_columns": null,
       "grid_template_rows": null,
       "height": null,
       "justify_content": null,
       "justify_items": null,
       "left": null,
       "margin": null,
       "max_height": null,
       "max_width": null,
       "min_height": null,
       "min_width": null,
       "object_fit": null,
       "object_position": null,
       "order": null,
       "overflow": null,
       "padding": null,
       "right": null,
       "top": null,
       "visibility": null,
       "width": null
      }
     },
     "ba267dae2bca4704884dc63a98aec9a2": {
      "model_module": "@jupyter-widgets/controls",
      "model_module_version": "2.0.0",
      "model_name": "HTMLModel",
      "state": {
       "_dom_classes": [],
       "_model_module": "@jupyter-widgets/controls",
       "_model_module_version": "2.0.0",
       "_model_name": "HTMLModel",
       "_view_count": null,
       "_view_module": "@jupyter-widgets/controls",
       "_view_module_version": "2.0.0",
       "_view_name": "HTMLView",
       "description": "",
       "description_allow_html": false,
       "layout": "IPY_MODEL_c2dd4ef8a2dd4dffade7b2709f3e7b2e",
       "placeholder": "​",
       "style": "IPY_MODEL_7ffdbddf92b94290bed0a92f732a63dd",
       "tabbable": null,
       "tooltip": null,
       "value": " 48.0/48.0 [00:00&lt;00:00, 5.96kB/s]"
      }
     },
     "bc6ab9d52a514fde8554162903be4133": {
      "model_module": "@jupyter-widgets/controls",
      "model_module_version": "2.0.0",
      "model_name": "HTMLModel",
      "state": {
       "_dom_classes": [],
       "_model_module": "@jupyter-widgets/controls",
       "_model_module_version": "2.0.0",
       "_model_name": "HTMLModel",
       "_view_count": null,
       "_view_module": "@jupyter-widgets/controls",
       "_view_module_version": "2.0.0",
       "_view_name": "HTMLView",
       "description": "",
       "description_allow_html": false,
       "layout": "IPY_MODEL_475bf06c8fd4456085e5d5d4f8ddd599",
       "placeholder": "​",
       "style": "IPY_MODEL_e058f490e93a4111b085fb3e1608adb8",
       "tabbable": null,
       "tooltip": null,
       "value": "vocab.txt: 100%"
      }
     },
     "c1431893472e4212ba0bdbda29cebb7c": {
      "model_module": "@jupyter-widgets/controls",
      "model_module_version": "2.0.0",
      "model_name": "ProgressStyleModel",
      "state": {
       "_model_module": "@jupyter-widgets/controls",
       "_model_module_version": "2.0.0",
       "_model_name": "ProgressStyleModel",
       "_view_count": null,
       "_view_module": "@jupyter-widgets/base",
       "_view_module_version": "2.0.0",
       "_view_name": "StyleView",
       "bar_color": null,
       "description_width": ""
      }
     },
     "c2dd4ef8a2dd4dffade7b2709f3e7b2e": {
      "model_module": "@jupyter-widgets/base",
      "model_module_version": "2.0.0",
      "model_name": "LayoutModel",
      "state": {
       "_model_module": "@jupyter-widgets/base",
       "_model_module_version": "2.0.0",
       "_model_name": "LayoutModel",
       "_view_count": null,
       "_view_module": "@jupyter-widgets/base",
       "_view_module_version": "2.0.0",
       "_view_name": "LayoutView",
       "align_content": null,
       "align_items": null,
       "align_self": null,
       "border_bottom": null,
       "border_left": null,
       "border_right": null,
       "border_top": null,
       "bottom": null,
       "display": null,
       "flex": null,
       "flex_flow": null,
       "grid_area": null,
       "grid_auto_columns": null,
       "grid_auto_flow": null,
       "grid_auto_rows": null,
       "grid_column": null,
       "grid_gap": null,
       "grid_row": null,
       "grid_template_areas": null,
       "grid_template_columns": null,
       "grid_template_rows": null,
       "height": null,
       "justify_content": null,
       "justify_items": null,
       "left": null,
       "margin": null,
       "max_height": null,
       "max_width": null,
       "min_height": null,
       "min_width": null,
       "object_fit": null,
       "object_position": null,
       "order": null,
       "overflow": null,
       "padding": null,
       "right": null,
       "top": null,
       "visibility": null,
       "width": null
      }
     },
     "c555df3760984aa98ad4116152604ca6": {
      "model_module": "@jupyter-widgets/base",
      "model_module_version": "2.0.0",
      "model_name": "LayoutModel",
      "state": {
       "_model_module": "@jupyter-widgets/base",
       "_model_module_version": "2.0.0",
       "_model_name": "LayoutModel",
       "_view_count": null,
       "_view_module": "@jupyter-widgets/base",
       "_view_module_version": "2.0.0",
       "_view_name": "LayoutView",
       "align_content": null,
       "align_items": null,
       "align_self": null,
       "border_bottom": null,
       "border_left": null,
       "border_right": null,
       "border_top": null,
       "bottom": null,
       "display": null,
       "flex": null,
       "flex_flow": null,
       "grid_area": null,
       "grid_auto_columns": null,
       "grid_auto_flow": null,
       "grid_auto_rows": null,
       "grid_column": null,
       "grid_gap": null,
       "grid_row": null,
       "grid_template_areas": null,
       "grid_template_columns": null,
       "grid_template_rows": null,
       "height": null,
       "justify_content": null,
       "justify_items": null,
       "left": null,
       "margin": null,
       "max_height": null,
       "max_width": null,
       "min_height": null,
       "min_width": null,
       "object_fit": null,
       "object_position": null,
       "order": null,
       "overflow": null,
       "padding": null,
       "right": null,
       "top": null,
       "visibility": null,
       "width": null
      }
     },
     "cd48a3093c3144548e15751a94c952e2": {
      "model_module": "@jupyter-widgets/base",
      "model_module_version": "2.0.0",
      "model_name": "LayoutModel",
      "state": {
       "_model_module": "@jupyter-widgets/base",
       "_model_module_version": "2.0.0",
       "_model_name": "LayoutModel",
       "_view_count": null,
       "_view_module": "@jupyter-widgets/base",
       "_view_module_version": "2.0.0",
       "_view_name": "LayoutView",
       "align_content": null,
       "align_items": null,
       "align_self": null,
       "border_bottom": null,
       "border_left": null,
       "border_right": null,
       "border_top": null,
       "bottom": null,
       "display": null,
       "flex": null,
       "flex_flow": null,
       "grid_area": null,
       "grid_auto_columns": null,
       "grid_auto_flow": null,
       "grid_auto_rows": null,
       "grid_column": null,
       "grid_gap": null,
       "grid_row": null,
       "grid_template_areas": null,
       "grid_template_columns": null,
       "grid_template_rows": null,
       "height": null,
       "justify_content": null,
       "justify_items": null,
       "left": null,
       "margin": null,
       "max_height": null,
       "max_width": null,
       "min_height": null,
       "min_width": null,
       "object_fit": null,
       "object_position": null,
       "order": null,
       "overflow": null,
       "padding": null,
       "right": null,
       "top": null,
       "visibility": null,
       "width": null
      }
     },
     "cf62af83a117462ca1538707398aa64a": {
      "model_module": "@jupyter-widgets/controls",
      "model_module_version": "2.0.0",
      "model_name": "ProgressStyleModel",
      "state": {
       "_model_module": "@jupyter-widgets/controls",
       "_model_module_version": "2.0.0",
       "_model_name": "ProgressStyleModel",
       "_view_count": null,
       "_view_module": "@jupyter-widgets/base",
       "_view_module_version": "2.0.0",
       "_view_name": "StyleView",
       "bar_color": null,
       "description_width": ""
      }
     },
     "cfae780314dd4a96b356c168f4e73b10": {
      "model_module": "@jupyter-widgets/base",
      "model_module_version": "2.0.0",
      "model_name": "LayoutModel",
      "state": {
       "_model_module": "@jupyter-widgets/base",
       "_model_module_version": "2.0.0",
       "_model_name": "LayoutModel",
       "_view_count": null,
       "_view_module": "@jupyter-widgets/base",
       "_view_module_version": "2.0.0",
       "_view_name": "LayoutView",
       "align_content": null,
       "align_items": null,
       "align_self": null,
       "border_bottom": null,
       "border_left": null,
       "border_right": null,
       "border_top": null,
       "bottom": null,
       "display": null,
       "flex": null,
       "flex_flow": null,
       "grid_area": null,
       "grid_auto_columns": null,
       "grid_auto_flow": null,
       "grid_auto_rows": null,
       "grid_column": null,
       "grid_gap": null,
       "grid_row": null,
       "grid_template_areas": null,
       "grid_template_columns": null,
       "grid_template_rows": null,
       "height": null,
       "justify_content": null,
       "justify_items": null,
       "left": null,
       "margin": null,
       "max_height": null,
       "max_width": null,
       "min_height": null,
       "min_width": null,
       "object_fit": null,
       "object_position": null,
       "order": null,
       "overflow": null,
       "padding": null,
       "right": null,
       "top": null,
       "visibility": null,
       "width": null
      }
     },
     "cff76eeabdec43b7938acc76b4686f3a": {
      "model_module": "@jupyter-widgets/controls",
      "model_module_version": "2.0.0",
      "model_name": "HTMLStyleModel",
      "state": {
       "_model_module": "@jupyter-widgets/controls",
       "_model_module_version": "2.0.0",
       "_model_name": "HTMLStyleModel",
       "_view_count": null,
       "_view_module": "@jupyter-widgets/base",
       "_view_module_version": "2.0.0",
       "_view_name": "StyleView",
       "background": null,
       "description_width": "",
       "font_size": null,
       "text_color": null
      }
     },
     "d47c930da9ba4bb18d852fca9ef8cc48": {
      "model_module": "@jupyter-widgets/controls",
      "model_module_version": "2.0.0",
      "model_name": "ProgressStyleModel",
      "state": {
       "_model_module": "@jupyter-widgets/controls",
       "_model_module_version": "2.0.0",
       "_model_name": "ProgressStyleModel",
       "_view_count": null,
       "_view_module": "@jupyter-widgets/base",
       "_view_module_version": "2.0.0",
       "_view_name": "StyleView",
       "bar_color": null,
       "description_width": ""
      }
     },
     "d6b0b63830f143a29534da2ba13a0ff9": {
      "model_module": "@jupyter-widgets/base",
      "model_module_version": "2.0.0",
      "model_name": "LayoutModel",
      "state": {
       "_model_module": "@jupyter-widgets/base",
       "_model_module_version": "2.0.0",
       "_model_name": "LayoutModel",
       "_view_count": null,
       "_view_module": "@jupyter-widgets/base",
       "_view_module_version": "2.0.0",
       "_view_name": "LayoutView",
       "align_content": null,
       "align_items": null,
       "align_self": null,
       "border_bottom": null,
       "border_left": null,
       "border_right": null,
       "border_top": null,
       "bottom": null,
       "display": null,
       "flex": null,
       "flex_flow": null,
       "grid_area": null,
       "grid_auto_columns": null,
       "grid_auto_flow": null,
       "grid_auto_rows": null,
       "grid_column": null,
       "grid_gap": null,
       "grid_row": null,
       "grid_template_areas": null,
       "grid_template_columns": null,
       "grid_template_rows": null,
       "height": null,
       "justify_content": null,
       "justify_items": null,
       "left": null,
       "margin": null,
       "max_height": null,
       "max_width": null,
       "min_height": null,
       "min_width": null,
       "object_fit": null,
       "object_position": null,
       "order": null,
       "overflow": null,
       "padding": null,
       "right": null,
       "top": null,
       "visibility": null,
       "width": null
      }
     },
     "dcffb69bc2534581a413fba7c3586467": {
      "model_module": "@jupyter-widgets/base",
      "model_module_version": "2.0.0",
      "model_name": "LayoutModel",
      "state": {
       "_model_module": "@jupyter-widgets/base",
       "_model_module_version": "2.0.0",
       "_model_name": "LayoutModel",
       "_view_count": null,
       "_view_module": "@jupyter-widgets/base",
       "_view_module_version": "2.0.0",
       "_view_name": "LayoutView",
       "align_content": null,
       "align_items": null,
       "align_self": null,
       "border_bottom": null,
       "border_left": null,
       "border_right": null,
       "border_top": null,
       "bottom": null,
       "display": null,
       "flex": null,
       "flex_flow": null,
       "grid_area": null,
       "grid_auto_columns": null,
       "grid_auto_flow": null,
       "grid_auto_rows": null,
       "grid_column": null,
       "grid_gap": null,
       "grid_row": null,
       "grid_template_areas": null,
       "grid_template_columns": null,
       "grid_template_rows": null,
       "height": null,
       "justify_content": null,
       "justify_items": null,
       "left": null,
       "margin": null,
       "max_height": null,
       "max_width": null,
       "min_height": null,
       "min_width": null,
       "object_fit": null,
       "object_position": null,
       "order": null,
       "overflow": null,
       "padding": null,
       "right": null,
       "top": null,
       "visibility": null,
       "width": null
      }
     },
     "e058f490e93a4111b085fb3e1608adb8": {
      "model_module": "@jupyter-widgets/controls",
      "model_module_version": "2.0.0",
      "model_name": "HTMLStyleModel",
      "state": {
       "_model_module": "@jupyter-widgets/controls",
       "_model_module_version": "2.0.0",
       "_model_name": "HTMLStyleModel",
       "_view_count": null,
       "_view_module": "@jupyter-widgets/base",
       "_view_module_version": "2.0.0",
       "_view_name": "StyleView",
       "background": null,
       "description_width": "",
       "font_size": null,
       "text_color": null
      }
     },
     "e4942702297c4a1a9f969f9ef6131942": {
      "model_module": "@jupyter-widgets/controls",
      "model_module_version": "2.0.0",
      "model_name": "FloatProgressModel",
      "state": {
       "_dom_classes": [],
       "_model_module": "@jupyter-widgets/controls",
       "_model_module_version": "2.0.0",
       "_model_name": "FloatProgressModel",
       "_view_count": null,
       "_view_module": "@jupyter-widgets/controls",
       "_view_module_version": "2.0.0",
       "_view_name": "ProgressView",
       "bar_style": "success",
       "description": "",
       "description_allow_html": false,
       "layout": "IPY_MODEL_3e12498632f5435a900e755a7afefe8f",
       "max": 48,
       "min": 0,
       "orientation": "horizontal",
       "style": "IPY_MODEL_cf62af83a117462ca1538707398aa64a",
       "tabbable": null,
       "tooltip": null,
       "value": 48
      }
     },
     "e6709761f39a4959860ca9f7d8775211": {
      "model_module": "@jupyter-widgets/base",
      "model_module_version": "2.0.0",
      "model_name": "LayoutModel",
      "state": {
       "_model_module": "@jupyter-widgets/base",
       "_model_module_version": "2.0.0",
       "_model_name": "LayoutModel",
       "_view_count": null,
       "_view_module": "@jupyter-widgets/base",
       "_view_module_version": "2.0.0",
       "_view_name": "LayoutView",
       "align_content": null,
       "align_items": null,
       "align_self": null,
       "border_bottom": null,
       "border_left": null,
       "border_right": null,
       "border_top": null,
       "bottom": null,
       "display": null,
       "flex": null,
       "flex_flow": null,
       "grid_area": null,
       "grid_auto_columns": null,
       "grid_auto_flow": null,
       "grid_auto_rows": null,
       "grid_column": null,
       "grid_gap": null,
       "grid_row": null,
       "grid_template_areas": null,
       "grid_template_columns": null,
       "grid_template_rows": null,
       "height": null,
       "justify_content": null,
       "justify_items": null,
       "left": null,
       "margin": null,
       "max_height": null,
       "max_width": null,
       "min_height": null,
       "min_width": null,
       "object_fit": null,
       "object_position": null,
       "order": null,
       "overflow": null,
       "padding": null,
       "right": null,
       "top": null,
       "visibility": null,
       "width": null
      }
     },
     "e91b85f329764336ab26de2c8eb04cb5": {
      "model_module": "@jupyter-widgets/controls",
      "model_module_version": "2.0.0",
      "model_name": "ProgressStyleModel",
      "state": {
       "_model_module": "@jupyter-widgets/controls",
       "_model_module_version": "2.0.0",
       "_model_name": "ProgressStyleModel",
       "_view_count": null,
       "_view_module": "@jupyter-widgets/base",
       "_view_module_version": "2.0.0",
       "_view_name": "StyleView",
       "bar_color": null,
       "description_width": ""
      }
     },
     "e97288426c8048a18618f1339904bf76": {
      "model_module": "@jupyter-widgets/controls",
      "model_module_version": "2.0.0",
      "model_name": "HBoxModel",
      "state": {
       "_dom_classes": [],
       "_model_module": "@jupyter-widgets/controls",
       "_model_module_version": "2.0.0",
       "_model_name": "HBoxModel",
       "_view_count": null,
       "_view_module": "@jupyter-widgets/controls",
       "_view_module_version": "2.0.0",
       "_view_name": "HBoxView",
       "box_style": "",
       "children": [
        "IPY_MODEL_7f2249797fd143b1a7772dbe0c496d47",
        "IPY_MODEL_007bcf6eec94418c86defc0dfe85b849",
        "IPY_MODEL_73f0cf70b18a49d5a853564f85885037"
       ],
       "layout": "IPY_MODEL_01a77928674a48dc8af74cd48dff4f96",
       "tabbable": null,
       "tooltip": null
      }
     },
     "e9edc97479044c3986d4791a7690c907": {
      "model_module": "@jupyter-widgets/controls",
      "model_module_version": "2.0.0",
      "model_name": "HTMLModel",
      "state": {
       "_dom_classes": [],
       "_model_module": "@jupyter-widgets/controls",
       "_model_module_version": "2.0.0",
       "_model_name": "HTMLModel",
       "_view_count": null,
       "_view_module": "@jupyter-widgets/controls",
       "_view_module_version": "2.0.0",
       "_view_name": "HTMLView",
       "description": "",
       "description_allow_html": false,
       "layout": "IPY_MODEL_e6709761f39a4959860ca9f7d8775211",
       "placeholder": "​",
       "style": "IPY_MODEL_42f72d0899db4b1fa8b583314ccc3b94",
       "tabbable": null,
       "tooltip": null,
       "value": "tokenizer.json: 100%"
      }
     },
     "ebbb6dc1e5a84899a9301b2653a22b6d": {
      "model_module": "@jupyter-widgets/base",
      "model_module_version": "2.0.0",
      "model_name": "LayoutModel",
      "state": {
       "_model_module": "@jupyter-widgets/base",
       "_model_module_version": "2.0.0",
       "_model_name": "LayoutModel",
       "_view_count": null,
       "_view_module": "@jupyter-widgets/base",
       "_view_module_version": "2.0.0",
       "_view_name": "LayoutView",
       "align_content": null,
       "align_items": null,
       "align_self": null,
       "border_bottom": null,
       "border_left": null,
       "border_right": null,
       "border_top": null,
       "bottom": null,
       "display": null,
       "flex": null,
       "flex_flow": null,
       "grid_area": null,
       "grid_auto_columns": null,
       "grid_auto_flow": null,
       "grid_auto_rows": null,
       "grid_column": null,
       "grid_gap": null,
       "grid_row": null,
       "grid_template_areas": null,
       "grid_template_columns": null,
       "grid_template_rows": null,
       "height": null,
       "justify_content": null,
       "justify_items": null,
       "left": null,
       "margin": null,
       "max_height": null,
       "max_width": null,
       "min_height": null,
       "min_width": null,
       "object_fit": null,
       "object_position": null,
       "order": null,
       "overflow": null,
       "padding": null,
       "right": null,
       "top": null,
       "visibility": null,
       "width": null
      }
     },
     "ff9b07caf73f492fa742f9a42da6e02b": {
      "model_module": "@jupyter-widgets/base",
      "model_module_version": "2.0.0",
      "model_name": "LayoutModel",
      "state": {
       "_model_module": "@jupyter-widgets/base",
       "_model_module_version": "2.0.0",
       "_model_name": "LayoutModel",
       "_view_count": null,
       "_view_module": "@jupyter-widgets/base",
       "_view_module_version": "2.0.0",
       "_view_name": "LayoutView",
       "align_content": null,
       "align_items": null,
       "align_self": null,
       "border_bottom": null,
       "border_left": null,
       "border_right": null,
       "border_top": null,
       "bottom": null,
       "display": null,
       "flex": null,
       "flex_flow": null,
       "grid_area": null,
       "grid_auto_columns": null,
       "grid_auto_flow": null,
       "grid_auto_rows": null,
       "grid_column": null,
       "grid_gap": null,
       "grid_row": null,
       "grid_template_areas": null,
       "grid_template_columns": null,
       "grid_template_rows": null,
       "height": null,
       "justify_content": null,
       "justify_items": null,
       "left": null,
       "margin": null,
       "max_height": null,
       "max_width": null,
       "min_height": null,
       "min_width": null,
       "object_fit": null,
       "object_position": null,
       "order": null,
       "overflow": null,
       "padding": null,
       "right": null,
       "top": null,
       "visibility": null,
       "width": null
      }
     }
    },
    "version_major": 2,
    "version_minor": 0
   }
  }
 },
 "nbformat": 4,
 "nbformat_minor": 5
}
