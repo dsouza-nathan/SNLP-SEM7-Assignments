{
  "cells": [
    {
      "cell_type": "markdown",
      "metadata": {
        "id": "M2_uYCS0UIA9"
      },
      "source": [
        "# **J040 ASGMT 4 TASK 1**\n",
        "\n",
        "### Goal\n",
        "The objective of Task 1 is to resolve user queries by matching them to a set of pre-resolved queries using text similarity techniques. This helps in automating the process of query resolution in NLP applications.\n",
        "\n",
        "### Approach\n",
        "We use two main approaches:\n",
        "- **Fuzzy String Matching**: Utilizes thefuzz library to compare queries using different string similarity metrics (ratio, partial ratio, token sort ratio, token set ratio).\n",
        "- **TF-IDF with Cosine Similarity**: Converts queries into vector representations and measures their similarity using cosine distance.\n",
        "\n",
        "The results from both methods are combined, and the best match is selected based on defined thresholds."
      ]
    },
    {
      "cell_type": "code",
      "execution_count": 1,
      "metadata": {
        "colab": {
          "base_uri": "https://localhost:8080/"
        },
        "id": "OKoXeH88POuC",
        "outputId": "22eabb10-36e4-425d-f46a-7a8584ac803f"
      },
      "outputs": [
        {
          "name": "stdout",
          "output_type": "stream",
          "text": [
            "Collecting thefuzz\n",
            "  Using cached thefuzz-0.22.1-py3-none-any.whl.metadata (3.9 kB)\n",
            "Collecting rapidfuzz<4.0.0,>=3.0.0 (from thefuzz)\n",
            "  Downloading rapidfuzz-3.14.0-cp312-cp312-win_amd64.whl.metadata (12 kB)\n",
            "Using cached thefuzz-0.22.1-py3-none-any.whl (8.2 kB)\n",
            "Downloading rapidfuzz-3.14.0-cp312-cp312-win_amd64.whl (1.7 MB)\n",
            "   ---------------------------------------- 0.0/1.7 MB ? eta -:--:--\n",
            "   ------------------------- -------------- 1.0/1.7 MB 24.6 MB/s eta 0:00:01\n",
            "   ------------------------- -------------- 1.0/1.7 MB 24.6 MB/s eta 0:00:01\n",
            "   ------------------------- -------------- 1.0/1.7 MB 24.6 MB/s eta 0:00:01\n",
            "   ------------------------- -------------- 1.0/1.7 MB 24.6 MB/s eta 0:00:01\n",
            "   ---------------------------------------- 1.7/1.7 MB 1.5 MB/s  0:00:00\n",
            "Installing collected packages: rapidfuzz, thefuzz\n",
            "\n",
            "   ---------------------------------------- 0/2 [rapidfuzz]\n",
            "   ---------------------------------------- 0/2 [rapidfuzz]\n",
            "   ---------------------------------------- 0/2 [rapidfuzz]\n",
            "   ---------------------------------------- 0/2 [rapidfuzz]\n",
            "   ---------------------------------------- 2/2 [thefuzz]\n",
            "\n",
            "Successfully installed rapidfuzz-3.14.0 thefuzz-0.22.1\n"
          ]
        }
      ],
      "source": [
        "!python -m pip install thefuzz"
      ]
    },
    {
      "cell_type": "markdown",
      "metadata": {
        "id": "3tv97cFvRqT5"
      },
      "source": [
        "## Importing Libraries\n",
        "\n",
        "We import essential libraries for data handling, fuzzy string matching, and vector-based similarity calculations. These include pandas for data manipulation, thefuzz for fuzzy matching, and scikit-learn for TF-IDF and cosine similarity."
      ]
    },
    {
      "cell_type": "code",
      "execution_count": 2,
      "metadata": {
        "id": "6omUhfhNRnbp"
      },
      "outputs": [
        {
          "name": "stderr",
          "output_type": "stream",
          "text": [
            "c:\\Users\\NATHAN\\AppData\\Local\\Programs\\Python\\Python312\\Lib\\site-packages\\sklearn\\utils\\_param_validation.py:11: UserWarning: A NumPy version >=1.22.4 and <2.3.0 is required for this version of SciPy (detected version 2.3.2)\n",
            "  from scipy.sparse import csr_matrix, issparse\n"
          ]
        }
      ],
      "source": [
        "import pandas as pd\n",
        "from thefuzz import fuzz, process\n",
        "from sklearn.feature_extraction.text import TfidfVectorizer\n",
        "from sklearn.metrics.pairwise import cosine_similarity\n"
      ]
    },
    {
      "cell_type": "markdown",
      "metadata": {
        "id": "5o_zyBPSR5a0"
      },
      "source": [
        "## Loading the Dataset\n",
        "\n",
        "We load two datasets:\n",
        "- `new_queries.csv`: Contains unresolved user queries.\n",
        "- `resolved_queries.csv`: Contains queries that have already been resolved and can be used as references for matching."
      ]
    },
    {
      "cell_type": "code",
      "execution_count": null,
      "metadata": {
        "id": "rzonpfv1R4rQ"
      },
      "outputs": [],
      "source": [
        "new_queries = pd.read_csv(\"Data/new_queries.csv\")\n",
        "resolved_queries = pd.read_csv(\"Data/resolved_queries.csv\")"
      ]
    },
    {
      "cell_type": "code",
      "execution_count": 4,
      "metadata": {
        "colab": {
          "base_uri": "https://localhost:8080/"
        },
        "id": "onM9vBkmYs8V",
        "outputId": "e58c0a34-7914-47cf-835a-ce97a4b6d541"
      },
      "outputs": [
        {
          "data": {
            "text/plain": [
              "(                              Variation_Query  Matches_With_Query_ID\n",
              " 0            Unabel to conect to the internet                      1\n",
              " 1                   Can’t connect to internet                      1\n",
              " 2                         Intenet not working                      1\n",
              " 3                Payment failed while chekout                      2\n",
              " 4   Payment did not go through during chckout                      2\n",
              " 5                  Payment issue at check out                      2\n",
              " 6    Application crashes when opening setings                      3\n",
              " 7            App crash when going to settings                      3\n",
              " 8            Settings cause the app to chrash                      3\n",
              " 9               Forgot passwrd and cant reset                      4\n",
              " 10        Forgotten password, unable to reset                      4\n",
              " 11                  I can’t reset my password                      4\n",
              " 12             Unable to uplod file to server                      5\n",
              " 13        Can't upload files on to the server                      5\n",
              " 14       File uploading to server not working                      5\n",
              " 15        No internet connection, please help                      1\n",
              " 16          Checkout page says payment failed                      2\n",
              " 17      Settings page crashes app immediately                      3\n",
              " 18            Password reset link not working                      4\n",
              " 19  Server upload fails with an error message                      5,\n",
              "    Query_ID                    Pre_Resolved_Query\n",
              " 0         1     Unable to connect to the internet\n",
              " 1         2        Payment failed during checkout\n",
              " 2         3     App crashes when opening settings\n",
              " 3         4   Forgot password and unable to reset\n",
              " 4         5  Unable to upload files to the server)"
            ]
          },
          "execution_count": 4,
          "metadata": {},
          "output_type": "execute_result"
        }
      ],
      "source": [
        "new_queries, resolved_queries"
      ]
    },
    {
      "cell_type": "markdown",
      "metadata": {
        "id": "37Em50T2SAFM"
      },
      "source": [
        "## Text Preprocessing\n",
        "\n",
        "To improve matching accuracy, we preprocess queries by converting them to lowercase and stripping extra spaces. This standardizes the text and reduces mismatches due to formatting differences."
      ]
    },
    {
      "cell_type": "code",
      "execution_count": 5,
      "metadata": {
        "id": "75K6ewJ5R_EG"
      },
      "outputs": [],
      "source": [
        "new_queries[\"Variation_Query\"] = new_queries[\"Variation_Query\"].str.lower().str.strip()\n",
        "resolved_queries[\"Pre_Resolved_Query\"] = resolved_queries[\"Pre_Resolved_Query\"].str.lower().str.strip()\n"
      ]
    },
    {
      "cell_type": "markdown",
      "metadata": {
        "id": "4QG6ffohSPN9"
      },
      "source": [
        "## Fuzzy Matching Methods\n",
        "\n",
        "We perform fuzzy matching using multiple methods from thefuzz library:\n",
        "- **ratio**\n",
        "- **partial_ratio**\n",
        "- **token_sort_ratio**\n",
        "- **token_set_ratio**\n",
        "\n",
        "For each unresolved query, we select the method that gives the highest similarity score above a set threshold."
      ]
    },
    {
      "cell_type": "code",
      "execution_count": 6,
      "metadata": {
        "id": "hNbLAyobSNZ7"
      },
      "outputs": [],
      "source": [
        "def get_all_fuzzy_scores(query, df, threshold=70):\n",
        "    choices = df[\"Pre_Resolved_Query\"].tolist()\n",
        "    scores = {\n",
        "        \"ratio\": process.extractOne(query, choices, scorer=fuzz.ratio),\n",
        "        \"partial_ratio\": process.extractOne(query, choices, scorer=fuzz.partial_ratio),\n",
        "        \"token_sort_ratio\": process.extractOne(query, choices, scorer=fuzz.token_sort_ratio),\n",
        "        \"token_set_ratio\": process.extractOne(query, choices, scorer=fuzz.token_set_ratio),\n",
        "    }\n",
        "    best_method, best_result = max(scores.items(), key=lambda x: x[1][1])\n",
        "    if best_result and best_result[1] >= threshold:\n",
        "        # Find the Query_ID for the matched text\n",
        "        qid = df.loc[df[\"Pre_Resolved_Query\"] == best_result[0], \"Query_ID\"].values[0]\n",
        "        return best_method, best_result[0], qid, best_result[1]\n",
        "    return None, None, None, None\n",
        "\n",
        "fuzzy_results = []\n",
        "for uq in new_queries[\"Variation_Query\"]:\n",
        "    method, match, qid, score = get_all_fuzzy_scores(uq, resolved_queries)\n",
        "    fuzzy_results.append((uq, method, match, qid, score))\n",
        "\n",
        "fuzzy_df = pd.DataFrame(fuzzy_results, columns=[\n",
        "    \"Unresolved_Query\", \"Best_Method\", \"Fuzzy_Match\", \"Fuzzy_Query_ID\", \"Fuzzy_Score\"\n",
        "])"
      ]
    },
    {
      "cell_type": "markdown",
      "metadata": {
        "id": "v_PhX_tFSjIA"
      },
      "source": [
        "## TF-IDF and Cosine Similarity\n",
        "\n",
        "We use TF-IDF vectorization to represent queries as numerical vectors. Cosine similarity is then used to measure the closeness between unresolved and resolved queries, helping to identify the best match based on semantic similarity."
      ]
    },
    {
      "cell_type": "code",
      "execution_count": 7,
      "metadata": {
        "id": "nvTOJ1OSSgjT"
      },
      "outputs": [],
      "source": [
        "vectorizer = TfidfVectorizer(stop_words=\"english\")\n",
        "tfidf_matrix = vectorizer.fit_transform(\n",
        "    new_queries[\"Variation_Query\"].tolist() + resolved_queries[\"Pre_Resolved_Query\"].tolist()\n",
        ")\n",
        "\n",
        "n_unresolved = len(new_queries)\n",
        "unresolved_vecs = tfidf_matrix[:n_unresolved]\n",
        "resolved_vecs = tfidf_matrix[n_unresolved:]\n",
        "\n",
        "cosine_sim = cosine_similarity(unresolved_vecs, resolved_vecs)\n",
        "\n",
        "tfidf_results = []\n",
        "for i, uq in enumerate(new_queries[\"Variation_Query\"]):\n",
        "    best_idx = cosine_sim[i].argmax()\n",
        "    best_score = cosine_sim[i][best_idx]\n",
        "    matched_row = resolved_queries.iloc[best_idx]\n",
        "    tfidf_results.append((uq, matched_row[\"Pre_Resolved_Query\"], matched_row[\"Query_ID\"], best_score))\n",
        "\n",
        "tfidf_df = pd.DataFrame(tfidf_results, columns=[\n",
        "    \"Unresolved_Query\", \"TFIDF_Match\", \"TFIDF_Query_ID\", \"TFIDF_Score\"\n",
        "])"
      ]
    },
    {
      "cell_type": "markdown",
      "metadata": {
        "id": "dWyVS_KBS0QN"
      },
      "source": [
        "## Combining Results\n",
        "\n",
        "We merge the results from fuzzy matching and TF-IDF similarity into a single DataFrame. This allows us to compare and select the best match for each query using both approaches."
      ]
    },
    {
      "cell_type": "code",
      "execution_count": 8,
      "metadata": {
        "id": "_kO6IkzHSzJV"
      },
      "outputs": [],
      "source": [
        "combined = pd.merge(fuzzy_df, tfidf_df, on=\"Unresolved_Query\", how=\"inner\")"
      ]
    },
    {
      "cell_type": "markdown",
      "metadata": {
        "id": "ElS3390nT1gG"
      },
      "source": [
        "## Selecting the Best Match\n",
        "\n",
        "For each unresolved query, we choose the final match based on the following logic:\n",
        "- If the fuzzy match score exceeds the threshold, use the fuzzy match.\n",
        "- Otherwise, if the TF-IDF score exceeds its threshold, use the TF-IDF match.\n",
        "- If neither threshold is met, no match is assigned."
      ]
    },
    {
      "cell_type": "code",
      "execution_count": 9,
      "metadata": {
        "id": "F69jF1vaQhxY"
      },
      "outputs": [],
      "source": [
        "def pick_final(row, fuzzy_thresh=75, tfidf_thresh=0.65):\n",
        "    if row[\"Fuzzy_Score\"] and row[\"Fuzzy_Score\"] >= fuzzy_thresh:\n",
        "        return row[\"Fuzzy_Match\"], row[\"Fuzzy_Query_ID\"], f\"Fuzzy-{row['Best_Method']}\"\n",
        "    elif row[\"TFIDF_Score\"] >= tfidf_thresh:\n",
        "        return row[\"TFIDF_Match\"], row[\"TFIDF_Query_ID\"], \"TFIDF\"\n",
        "    else:\n",
        "        return None, None, \"No Match\"\n",
        "\n",
        "combined[[\"Final_Match\", \"Final_Query_ID\", \"Method_Used\"]] = combined.apply(\n",
        "    pick_final, axis=1, result_type=\"expand\"\n",
        ")"
      ]
    },
    {
      "cell_type": "markdown",
      "metadata": {
        "id": "cF_b066gUBv0"
      },
      "source": [
        "## Results\n",
        "\n",
        "We display the final matches for each unresolved query, showing which method was used and the corresponding matched query. This helps evaluate the effectiveness of the matching approaches."
      ]
    },
    {
      "cell_type": "code",
      "execution_count": 10,
      "metadata": {
        "colab": {
          "base_uri": "https://localhost:8080/",
          "height": 677
        },
        "id": "wdL29KzwReRZ",
        "outputId": "0f187fc1-6be3-41a7-e238-be8ac8c68f16"
      },
      "outputs": [
        {
          "data": {
            "text/html": [
              "<div>\n",
              "<style scoped>\n",
              "    .dataframe tbody tr th:only-of-type {\n",
              "        vertical-align: middle;\n",
              "    }\n",
              "\n",
              "    .dataframe tbody tr th {\n",
              "        vertical-align: top;\n",
              "    }\n",
              "\n",
              "    .dataframe thead th {\n",
              "        text-align: right;\n",
              "    }\n",
              "</style>\n",
              "<table border=\"1\" class=\"dataframe\">\n",
              "  <thead>\n",
              "    <tr style=\"text-align: right;\">\n",
              "      <th></th>\n",
              "      <th>Unresolved_Query</th>\n",
              "      <th>Fuzzy_Match</th>\n",
              "      <th>Method_Used</th>\n",
              "    </tr>\n",
              "  </thead>\n",
              "  <tbody>\n",
              "    <tr>\n",
              "      <th>0</th>\n",
              "      <td>unabel to conect to the internet</td>\n",
              "      <td>unable to connect to the internet</td>\n",
              "      <td>Fuzzy-ratio</td>\n",
              "    </tr>\n",
              "    <tr>\n",
              "      <th>1</th>\n",
              "      <td>can’t connect to internet</td>\n",
              "      <td>unable to connect to the internet</td>\n",
              "      <td>Fuzzy-token_set_ratio</td>\n",
              "    </tr>\n",
              "    <tr>\n",
              "      <th>2</th>\n",
              "      <td>intenet not working</td>\n",
              "      <td>None</td>\n",
              "      <td>No Match</td>\n",
              "    </tr>\n",
              "    <tr>\n",
              "      <th>3</th>\n",
              "      <td>payment failed while chekout</td>\n",
              "      <td>payment failed during checkout</td>\n",
              "      <td>Fuzzy-ratio</td>\n",
              "    </tr>\n",
              "    <tr>\n",
              "      <th>4</th>\n",
              "      <td>payment did not go through during chckout</td>\n",
              "      <td>payment failed during checkout</td>\n",
              "      <td>No Match</td>\n",
              "    </tr>\n",
              "    <tr>\n",
              "      <th>5</th>\n",
              "      <td>payment issue at check out</td>\n",
              "      <td>payment failed during checkout</td>\n",
              "      <td>No Match</td>\n",
              "    </tr>\n",
              "    <tr>\n",
              "      <th>6</th>\n",
              "      <td>application crashes when opening setings</td>\n",
              "      <td>app crashes when opening settings</td>\n",
              "      <td>Fuzzy-partial_ratio</td>\n",
              "    </tr>\n",
              "    <tr>\n",
              "      <th>7</th>\n",
              "      <td>app crash when going to settings</td>\n",
              "      <td>app crashes when opening settings</td>\n",
              "      <td>Fuzzy-ratio</td>\n",
              "    </tr>\n",
              "    <tr>\n",
              "      <th>8</th>\n",
              "      <td>settings cause the app to chrash</td>\n",
              "      <td>None</td>\n",
              "      <td>No Match</td>\n",
              "    </tr>\n",
              "    <tr>\n",
              "      <th>9</th>\n",
              "      <td>forgot passwrd and cant reset</td>\n",
              "      <td>forgot password and unable to reset</td>\n",
              "      <td>Fuzzy-ratio</td>\n",
              "    </tr>\n",
              "    <tr>\n",
              "      <th>10</th>\n",
              "      <td>forgotten password, unable to reset</td>\n",
              "      <td>forgot password and unable to reset</td>\n",
              "      <td>Fuzzy-ratio</td>\n",
              "    </tr>\n",
              "    <tr>\n",
              "      <th>11</th>\n",
              "      <td>i can’t reset my password</td>\n",
              "      <td>forgot password and unable to reset</td>\n",
              "      <td>TFIDF</td>\n",
              "    </tr>\n",
              "    <tr>\n",
              "      <th>12</th>\n",
              "      <td>unable to uplod file to server</td>\n",
              "      <td>unable to upload files to the server</td>\n",
              "      <td>Fuzzy-ratio</td>\n",
              "    </tr>\n",
              "    <tr>\n",
              "      <th>13</th>\n",
              "      <td>can't upload files on to the server</td>\n",
              "      <td>unable to upload files to the server</td>\n",
              "      <td>Fuzzy-partial_ratio</td>\n",
              "    </tr>\n",
              "    <tr>\n",
              "      <th>14</th>\n",
              "      <td>file uploading to server not working</td>\n",
              "      <td>None</td>\n",
              "      <td>No Match</td>\n",
              "    </tr>\n",
              "    <tr>\n",
              "      <th>15</th>\n",
              "      <td>no internet connection, please help</td>\n",
              "      <td>unable to connect to the internet</td>\n",
              "      <td>Fuzzy-token_set_ratio</td>\n",
              "    </tr>\n",
              "    <tr>\n",
              "      <th>16</th>\n",
              "      <td>checkout page says payment failed</td>\n",
              "      <td>payment failed during checkout</td>\n",
              "      <td>Fuzzy-token_set_ratio</td>\n",
              "    </tr>\n",
              "    <tr>\n",
              "      <th>17</th>\n",
              "      <td>settings page crashes app immediately</td>\n",
              "      <td>app crashes when opening settings</td>\n",
              "      <td>Fuzzy-token_set_ratio</td>\n",
              "    </tr>\n",
              "    <tr>\n",
              "      <th>18</th>\n",
              "      <td>password reset link not working</td>\n",
              "      <td>None</td>\n",
              "      <td>No Match</td>\n",
              "    </tr>\n",
              "    <tr>\n",
              "      <th>19</th>\n",
              "      <td>server upload fails with an error message</td>\n",
              "      <td>None</td>\n",
              "      <td>No Match</td>\n",
              "    </tr>\n",
              "  </tbody>\n",
              "</table>\n",
              "</div>"
            ],
            "text/plain": [
              "                             Unresolved_Query  \\\n",
              "0            unabel to conect to the internet   \n",
              "1                   can’t connect to internet   \n",
              "2                         intenet not working   \n",
              "3                payment failed while chekout   \n",
              "4   payment did not go through during chckout   \n",
              "5                  payment issue at check out   \n",
              "6    application crashes when opening setings   \n",
              "7            app crash when going to settings   \n",
              "8            settings cause the app to chrash   \n",
              "9               forgot passwrd and cant reset   \n",
              "10        forgotten password, unable to reset   \n",
              "11                  i can’t reset my password   \n",
              "12             unable to uplod file to server   \n",
              "13        can't upload files on to the server   \n",
              "14       file uploading to server not working   \n",
              "15        no internet connection, please help   \n",
              "16          checkout page says payment failed   \n",
              "17      settings page crashes app immediately   \n",
              "18            password reset link not working   \n",
              "19  server upload fails with an error message   \n",
              "\n",
              "                             Fuzzy_Match            Method_Used  \n",
              "0      unable to connect to the internet            Fuzzy-ratio  \n",
              "1      unable to connect to the internet  Fuzzy-token_set_ratio  \n",
              "2                                   None               No Match  \n",
              "3         payment failed during checkout            Fuzzy-ratio  \n",
              "4         payment failed during checkout               No Match  \n",
              "5         payment failed during checkout               No Match  \n",
              "6      app crashes when opening settings    Fuzzy-partial_ratio  \n",
              "7      app crashes when opening settings            Fuzzy-ratio  \n",
              "8                                   None               No Match  \n",
              "9    forgot password and unable to reset            Fuzzy-ratio  \n",
              "10   forgot password and unable to reset            Fuzzy-ratio  \n",
              "11   forgot password and unable to reset                  TFIDF  \n",
              "12  unable to upload files to the server            Fuzzy-ratio  \n",
              "13  unable to upload files to the server    Fuzzy-partial_ratio  \n",
              "14                                  None               No Match  \n",
              "15     unable to connect to the internet  Fuzzy-token_set_ratio  \n",
              "16        payment failed during checkout  Fuzzy-token_set_ratio  \n",
              "17     app crashes when opening settings  Fuzzy-token_set_ratio  \n",
              "18                                  None               No Match  \n",
              "19                                  None               No Match  "
            ]
          },
          "execution_count": 10,
          "metadata": {},
          "output_type": "execute_result"
        }
      ],
      "source": [
        "combined[['Unresolved_Query', 'Fuzzy_Match', 'Method_Used']]"
      ]
    },
    {
      "cell_type": "markdown",
      "metadata": {
        "id": "P0Z6icU9UPFs"
      },
      "source": [
        "# **J040 ASGMT 4 TASK 2**\n",
        "\n",
        "### Goal\n",
        "The objective of Task 2 is to normalize and match name variations to their corresponding base names. This is useful for entity resolution and deduplication in NLP tasks.\n",
        "\n",
        "### Approach\n",
        "We preprocess names to handle formatting inconsistencies, then use fuzzy string matching (token_sort_ratio) to match each variation to the best base name. The accuracy of the matching is evaluated at the end."
      ]
    },
    {
      "cell_type": "markdown",
      "metadata": {
        "id": "rm-d0HcIW34Z"
      },
      "source": [
        "# Importing Libraries\n",
        "\n",
        "We import the `re` library for regular expressions, which is used in name normalization and preprocessing."
      ]
    },
    {
      "cell_type": "code",
      "execution_count": 11,
      "metadata": {
        "id": "OnX3VkjVW-vc"
      },
      "outputs": [],
      "source": [
        "import re"
      ]
    },
    {
      "cell_type": "markdown",
      "metadata": {
        "id": "MnnNSrSrXwhl"
      },
      "source": [
        "## Loading the Dataset\n",
        "\n",
        "We load two datasets:\n",
        "- `name_variations.csv`: Contains different variations of names.\n",
        "- `base_names.csv`: Contains the canonical base names to match against."
      ]
    },
    {
      "cell_type": "code",
      "execution_count": null,
      "metadata": {
        "id": "fimYA_sHXqZG"
      },
      "outputs": [],
      "source": [
        "name_variations = pd.read_csv(\"Data/name_variations.csv\")\n",
        "base_names = pd.read_csv(\"Data/base_names.csv\")"
      ]
    },
    {
      "cell_type": "code",
      "execution_count": 13,
      "metadata": {
        "colab": {
          "base_uri": "https://localhost:8080/"
        },
        "id": "dOsCyUhQXrh9",
        "outputId": "537b057a-6c3f-45d6-9c75-ef5dc2291f8c"
      },
      "outputs": [
        {
          "data": {
            "text/plain": [
              "(    Base_Name_ID          Base_Name\n",
              " 0              1         John Smith\n",
              " 1              2     Jennifer Brown\n",
              " 2              3   Michael O'Connor\n",
              " 3              4       Maria Garcia\n",
              " 4              5         Robert Lee\n",
              " 5              6      Linda Johnson\n",
              " 6              7      William Davis\n",
              " 7              8   Elizabeth Wilson\n",
              " 8              9     David Martinez\n",
              " 9             10        Susan Clark\n",
              " 10            11    James Rodriguez\n",
              " 11            12         Mary Lewis\n",
              " 12            13         Paul Allen\n",
              " 13            14        Karen Young\n",
              " 14            15        Thomas King\n",
              " 15            16       Nancy Wright\n",
              " 16            17       Daniel Scott\n",
              " 17            18        Sandra Hill\n",
              " 18            19  Christopher Green\n",
              " 19            20      Jessica Adams,\n",
              "           Variation Matches_With_Base_Name\n",
              " 0      Thomas  King            Thomas King\n",
              " 1        ThomasKing            Thomas King\n",
              " 2      Maria Garcia           Maria Garcia\n",
              " 3         MaryLewis             Mary Lewis\n",
              " 4          Nancy W.           Nancy Wright\n",
              " ..              ...                    ...\n",
              " 95  Jennifer- Brown         Jennifer Brown\n",
              " 96    Daniel- Scott           Daniel Scott\n",
              " 97         David M.         David Martinez\n",
              " 98      Paul Allen.             Paul Allen\n",
              " 99      Paul  Allen             Paul Allen\n",
              " \n",
              " [100 rows x 2 columns])"
            ]
          },
          "execution_count": 13,
          "metadata": {},
          "output_type": "execute_result"
        }
      ],
      "source": [
        "base_names, name_variations"
      ]
    },
    {
      "cell_type": "markdown",
      "metadata": {
        "id": "ETAb2nJ9XDqS"
      },
      "source": [
        "## Name Preprocessing\n",
        "\n",
        "We normalize names by:\n",
        "- Adding spaces between concatenated words (e.g., 'ThomasKing' → 'Thomas King')\n",
        "- Converting to lowercase\n",
        "- Removing non-alphabetic characters\n",
        "- Stripping unnecessary spaces\n",
        "\n",
        "This ensures consistent formatting for accurate matching."
      ]
    },
    {
      "cell_type": "code",
      "execution_count": 14,
      "metadata": {
        "id": "_I16qea2VPT9"
      },
      "outputs": [],
      "source": [
        "def normalize_name(name: str) -> str:\n",
        "    if pd.isna(name):\n",
        "        return \"\"\n",
        "    name = name.strip()\n",
        "    name = re.sub(r'(?<=[a-z])(?=[A-Z])', ' ', name)\n",
        "    name = name.lower()\n",
        "    name = re.sub(r'[^a-z\\s]', '', name)\n",
        "    name = re.sub(r'\\s+', ' ', name).strip()\n",
        "    return name"
      ]
    },
    {
      "cell_type": "markdown",
      "metadata": {
        "id": "gzpw-JQTX6zR"
      },
      "source": [
        "## Applying Normalization\n",
        "\n",
        "We apply the normalization function to both name variations and base names, creating new columns with the processed names for matching."
      ]
    },
    {
      "cell_type": "code",
      "execution_count": 15,
      "metadata": {
        "id": "n1uglRQWX54x"
      },
      "outputs": [],
      "source": [
        "name_variations[\"Normalized\"] = name_variations[\"Variation\"].astype(str).apply(normalize_name)\n",
        "base_names[\"Normalized\"] = base_names[\"Base_Name\"].astype(str).apply(normalize_name)"
      ]
    },
    {
      "cell_type": "markdown",
      "metadata": {
        "id": "MAwnrMOmYDrC"
      },
      "source": [
        "## Matching Names\n",
        "\n",
        "We use the `token_sort_ratio` method from thefuzz library to match each normalized name variation to the best base name, based on similarity score and a defined threshold."
      ]
    },
    {
      "cell_type": "code",
      "execution_count": 16,
      "metadata": {
        "id": "Br78BUKhYCYy"
      },
      "outputs": [],
      "source": [
        "def get_best_match(name, base_names, threshold=80):\n",
        "    match = process.extractOne(\n",
        "        name,\n",
        "        base_names[\"Normalized\"].tolist(),\n",
        "        scorer=fuzz.token_sort_ratio\n",
        "    )\n",
        "    if match and match[1] >= threshold:\n",
        "        # Get the original base name for reporting\n",
        "        matched_row = base_names.loc[base_names[\"Normalized\"] == match[0], \"Base_Name\"].values[0]\n",
        "        return matched_row, match[1]\n",
        "    return None, None"
      ]
    },
    {
      "cell_type": "markdown",
      "metadata": {
        "id": "_Eo20nRCYOGR"
      },
      "source": [
        "## Running Fuzzy Match\n",
        "\n",
        "We iterate through each name variation, perform fuzzy matching against base names, and store the results for further analysis."
      ]
    },
    {
      "cell_type": "code",
      "execution_count": 17,
      "metadata": {
        "id": "eA4bCBS9YMo-"
      },
      "outputs": [],
      "source": [
        "results = []\n",
        "for name, norm in zip(name_variations[\"Variation\"], name_variations[\"Normalized\"]):\n",
        "    matched_name, score = get_best_match(norm, base_names)\n",
        "    results.append((name, matched_name, score))\n"
      ]
    },
    {
      "cell_type": "markdown",
      "metadata": {
        "id": "UGdC8t9OYdz3"
      },
      "source": [
        "## Results DataFrame\n",
        "\n",
        "We convert the matching results into a DataFrame for easy viewing and analysis. The DataFrame shows each variation, its matched base name, and the similarity score."
      ]
    },
    {
      "cell_type": "code",
      "execution_count": 18,
      "metadata": {
        "colab": {
          "base_uri": "https://localhost:8080/",
          "height": 520
        },
        "id": "2LArnrG2YbTD",
        "outputId": "f143404e-c5e0-4b95-a491-1ed8214b3368"
      },
      "outputs": [
        {
          "data": {
            "text/html": [
              "<div>\n",
              "<style scoped>\n",
              "    .dataframe tbody tr th:only-of-type {\n",
              "        vertical-align: middle;\n",
              "    }\n",
              "\n",
              "    .dataframe tbody tr th {\n",
              "        vertical-align: top;\n",
              "    }\n",
              "\n",
              "    .dataframe thead th {\n",
              "        text-align: right;\n",
              "    }\n",
              "</style>\n",
              "<table border=\"1\" class=\"dataframe\">\n",
              "  <thead>\n",
              "    <tr style=\"text-align: right;\">\n",
              "      <th></th>\n",
              "      <th>Variation_Name</th>\n",
              "      <th>Matched_Base_Name</th>\n",
              "      <th>Score</th>\n",
              "    </tr>\n",
              "  </thead>\n",
              "  <tbody>\n",
              "    <tr>\n",
              "      <th>0</th>\n",
              "      <td>Thomas  King</td>\n",
              "      <td>Thomas King</td>\n",
              "      <td>100.0</td>\n",
              "    </tr>\n",
              "    <tr>\n",
              "      <th>1</th>\n",
              "      <td>ThomasKing</td>\n",
              "      <td>Thomas King</td>\n",
              "      <td>100.0</td>\n",
              "    </tr>\n",
              "    <tr>\n",
              "      <th>2</th>\n",
              "      <td>Maria Garcia</td>\n",
              "      <td>Maria Garcia</td>\n",
              "      <td>100.0</td>\n",
              "    </tr>\n",
              "    <tr>\n",
              "      <th>3</th>\n",
              "      <td>MaryLewis</td>\n",
              "      <td>Mary Lewis</td>\n",
              "      <td>100.0</td>\n",
              "    </tr>\n",
              "    <tr>\n",
              "      <th>4</th>\n",
              "      <td>Nancy W.</td>\n",
              "      <td>None</td>\n",
              "      <td>NaN</td>\n",
              "    </tr>\n",
              "    <tr>\n",
              "      <th>5</th>\n",
              "      <td>Dani3l Scott</td>\n",
              "      <td>Daniel Scott</td>\n",
              "      <td>96.0</td>\n",
              "    </tr>\n",
              "    <tr>\n",
              "      <th>6</th>\n",
              "      <td>JOHN  smith</td>\n",
              "      <td>John Smith</td>\n",
              "      <td>100.0</td>\n",
              "    </tr>\n",
              "    <tr>\n",
              "      <th>7</th>\n",
              "      <td>linda johnson</td>\n",
              "      <td>Linda Johnson</td>\n",
              "      <td>100.0</td>\n",
              "    </tr>\n",
              "    <tr>\n",
              "      <th>8</th>\n",
              "      <td>N@ncy Wright</td>\n",
              "      <td>Nancy Wright</td>\n",
              "      <td>96.0</td>\n",
              "    </tr>\n",
              "    <tr>\n",
              "      <th>9</th>\n",
              "      <td>William Davis</td>\n",
              "      <td>William Davis</td>\n",
              "      <td>100.0</td>\n",
              "    </tr>\n",
              "    <tr>\n",
              "      <th>10</th>\n",
              "      <td>Susan  Clark</td>\n",
              "      <td>Susan Clark</td>\n",
              "      <td>100.0</td>\n",
              "    </tr>\n",
              "    <tr>\n",
              "      <th>11</th>\n",
              "      <td>SusanClark</td>\n",
              "      <td>Susan Clark</td>\n",
              "      <td>100.0</td>\n",
              "    </tr>\n",
              "    <tr>\n",
              "      <th>12</th>\n",
              "      <td>Jennifer- Brown</td>\n",
              "      <td>Jennifer Brown</td>\n",
              "      <td>100.0</td>\n",
              "    </tr>\n",
              "    <tr>\n",
              "      <th>13</th>\n",
              "      <td>Michael O'Connor</td>\n",
              "      <td>Michael O'Connor</td>\n",
              "      <td>100.0</td>\n",
              "    </tr>\n",
              "    <tr>\n",
              "      <th>14</th>\n",
              "      <td>Rodriguez James</td>\n",
              "      <td>James Rodriguez</td>\n",
              "      <td>100.0</td>\n",
              "    </tr>\n",
              "  </tbody>\n",
              "</table>\n",
              "</div>"
            ],
            "text/plain": [
              "      Variation_Name Matched_Base_Name  Score\n",
              "0       Thomas  King       Thomas King  100.0\n",
              "1         ThomasKing       Thomas King  100.0\n",
              "2       Maria Garcia      Maria Garcia  100.0\n",
              "3          MaryLewis        Mary Lewis  100.0\n",
              "4           Nancy W.              None    NaN\n",
              "5       Dani3l Scott      Daniel Scott   96.0\n",
              "6        JOHN  smith        John Smith  100.0\n",
              "7      linda johnson     Linda Johnson  100.0\n",
              "8       N@ncy Wright      Nancy Wright   96.0\n",
              "9      William Davis     William Davis  100.0\n",
              "10      Susan  Clark       Susan Clark  100.0\n",
              "11        SusanClark       Susan Clark  100.0\n",
              "12   Jennifer- Brown    Jennifer Brown  100.0\n",
              "13  Michael O'Connor  Michael O'Connor  100.0\n",
              "14   Rodriguez James   James Rodriguez  100.0"
            ]
          },
          "execution_count": 18,
          "metadata": {},
          "output_type": "execute_result"
        }
      ],
      "source": [
        "matches_df = pd.DataFrame(results, columns=[\"Variation_Name\", \"Matched_Base_Name\", \"Score\"])\n",
        "matches_df.head(15)"
      ]
    },
    {
      "cell_type": "markdown",
      "metadata": {
        "id": "CWtVjViwYkZ9"
      },
      "source": [
        "## Results\n",
        "\n",
        "We evaluate the accuracy of the matching process by comparing predicted matches to the actual base names. This helps assess the effectiveness of the normalization and matching approach."
      ]
    },
    {
      "cell_type": "code",
      "execution_count": 19,
      "metadata": {
        "colab": {
          "base_uri": "https://localhost:8080/"
        },
        "id": "vOS9fu2tWGYR",
        "outputId": "535970b1-fbe3-4d7b-db01-4d3d800b17f8"
      },
      "outputs": [
        {
          "data": {
            "text/plain": [
              "0.95"
            ]
          },
          "execution_count": 19,
          "metadata": {},
          "output_type": "execute_result"
        }
      ],
      "source": [
        "from sklearn.metrics import accuracy_score\n",
        "\n",
        "y_true = name_variations['Matches_With_Base_Name'].fillna(\"No Match\")\n",
        "y_pred = matches_df['Matched_Base_Name'].fillna(\"No Match\")\n",
        "\n",
        "accuracy_score(y_true, y_pred)"
      ]
    }
  ],
  "metadata": {
    "colab": {
      "provenance": []
    },
    "kernelspec": {
      "display_name": "Python 3",
      "name": "python3"
    },
    "language_info": {
      "codemirror_mode": {
        "name": "ipython",
        "version": 3
      },
      "file_extension": ".py",
      "mimetype": "text/x-python",
      "name": "python",
      "nbconvert_exporter": "python",
      "pygments_lexer": "ipython3",
      "version": "3.12.5"
    }
  },
  "nbformat": 4,
  "nbformat_minor": 0
}
